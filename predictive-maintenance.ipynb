{
 "cells": [
  {
   "cell_type": "code",
   "execution_count": 1,
   "id": "d6293986",
   "metadata": {
    "id": "K02xxkhrOZ_H",
    "papermill": {
     "duration": 1.483988,
     "end_time": "2023-06-12T08:12:59.148832",
     "exception": false,
     "start_time": "2023-06-12T08:12:57.664844",
     "status": "completed"
    },
    "tags": []
   },
   "outputs": [],
   "source": [
    "import pandas as pd\n",
    "import seaborn as sns\n",
    "import matplotlib.pyplot as plt\n",
    "plt.style.use(\"fivethirtyeight\")"
   ]
  },
  {
   "cell_type": "markdown",
   "id": "52608b51",
   "metadata": {
    "id": "Zr7AU6hZuV9J",
    "papermill": {
     "duration": 0.010866,
     "end_time": "2023-06-12T08:12:59.171386",
     "exception": false,
     "start_time": "2023-06-12T08:12:59.160520",
     "status": "completed"
    },
    "tags": []
   },
   "source": [
    "##**Importing Dataset**"
   ]
  },
  {
   "cell_type": "code",
   "execution_count": 5,
   "id": "bbe1d2c2",
   "metadata": {
    "papermill": {
     "duration": 0.063966,
     "end_time": "2023-06-12T08:12:59.284228",
     "exception": false,
     "start_time": "2023-06-12T08:12:59.220262",
     "status": "completed"
    },
    "tags": []
   },
   "outputs": [],
   "source": [
    "#create a dataframe\n",
    "df = pd.read_csv(\"ai4i2020.csv\")"
   ]
  },
  {
   "cell_type": "code",
   "execution_count": 6,
   "id": "8ae3c868",
   "metadata": {
    "id": "29x3_Hh-PZkM",
    "outputId": "5d6d5672-1ef8-41d3-a2f8-17ca385ff6e4",
    "papermill": {
     "duration": 0.050276,
     "end_time": "2023-06-12T08:12:59.346244",
     "exception": false,
     "start_time": "2023-06-12T08:12:59.295968",
     "status": "completed"
    },
    "tags": []
   },
   "outputs": [
    {
     "data": {
      "text/html": [
       "<div>\n",
       "<style scoped>\n",
       "    .dataframe tbody tr th:only-of-type {\n",
       "        vertical-align: middle;\n",
       "    }\n",
       "\n",
       "    .dataframe tbody tr th {\n",
       "        vertical-align: top;\n",
       "    }\n",
       "\n",
       "    .dataframe thead th {\n",
       "        text-align: right;\n",
       "    }\n",
       "</style>\n",
       "<table border=\"1\" class=\"dataframe\">\n",
       "  <thead>\n",
       "    <tr style=\"text-align: right;\">\n",
       "      <th></th>\n",
       "      <th>UDI</th>\n",
       "      <th>Product ID</th>\n",
       "      <th>Type</th>\n",
       "      <th>Air temperature [K]</th>\n",
       "      <th>Process temperature [K]</th>\n",
       "      <th>Rotational speed [rpm]</th>\n",
       "      <th>Torque [Nm]</th>\n",
       "      <th>Tool wear [min]</th>\n",
       "      <th>Machine failure</th>\n",
       "      <th>TWF</th>\n",
       "      <th>HDF</th>\n",
       "      <th>PWF</th>\n",
       "      <th>OSF</th>\n",
       "      <th>RNF</th>\n",
       "    </tr>\n",
       "  </thead>\n",
       "  <tbody>\n",
       "    <tr>\n",
       "      <th>0</th>\n",
       "      <td>1</td>\n",
       "      <td>M14860</td>\n",
       "      <td>M</td>\n",
       "      <td>298.1</td>\n",
       "      <td>308.6</td>\n",
       "      <td>1551</td>\n",
       "      <td>42.8</td>\n",
       "      <td>0</td>\n",
       "      <td>0</td>\n",
       "      <td>0</td>\n",
       "      <td>0</td>\n",
       "      <td>0</td>\n",
       "      <td>0</td>\n",
       "      <td>0</td>\n",
       "    </tr>\n",
       "    <tr>\n",
       "      <th>1</th>\n",
       "      <td>2</td>\n",
       "      <td>L47181</td>\n",
       "      <td>L</td>\n",
       "      <td>298.2</td>\n",
       "      <td>308.7</td>\n",
       "      <td>1408</td>\n",
       "      <td>46.3</td>\n",
       "      <td>3</td>\n",
       "      <td>0</td>\n",
       "      <td>0</td>\n",
       "      <td>0</td>\n",
       "      <td>0</td>\n",
       "      <td>0</td>\n",
       "      <td>0</td>\n",
       "    </tr>\n",
       "    <tr>\n",
       "      <th>2</th>\n",
       "      <td>3</td>\n",
       "      <td>L47182</td>\n",
       "      <td>L</td>\n",
       "      <td>298.1</td>\n",
       "      <td>308.5</td>\n",
       "      <td>1498</td>\n",
       "      <td>49.4</td>\n",
       "      <td>5</td>\n",
       "      <td>0</td>\n",
       "      <td>0</td>\n",
       "      <td>0</td>\n",
       "      <td>0</td>\n",
       "      <td>0</td>\n",
       "      <td>0</td>\n",
       "    </tr>\n",
       "    <tr>\n",
       "      <th>3</th>\n",
       "      <td>4</td>\n",
       "      <td>L47183</td>\n",
       "      <td>L</td>\n",
       "      <td>298.2</td>\n",
       "      <td>308.6</td>\n",
       "      <td>1433</td>\n",
       "      <td>39.5</td>\n",
       "      <td>7</td>\n",
       "      <td>0</td>\n",
       "      <td>0</td>\n",
       "      <td>0</td>\n",
       "      <td>0</td>\n",
       "      <td>0</td>\n",
       "      <td>0</td>\n",
       "    </tr>\n",
       "    <tr>\n",
       "      <th>4</th>\n",
       "      <td>5</td>\n",
       "      <td>L47184</td>\n",
       "      <td>L</td>\n",
       "      <td>298.2</td>\n",
       "      <td>308.7</td>\n",
       "      <td>1408</td>\n",
       "      <td>40.0</td>\n",
       "      <td>9</td>\n",
       "      <td>0</td>\n",
       "      <td>0</td>\n",
       "      <td>0</td>\n",
       "      <td>0</td>\n",
       "      <td>0</td>\n",
       "      <td>0</td>\n",
       "    </tr>\n",
       "  </tbody>\n",
       "</table>\n",
       "</div>"
      ],
      "text/plain": [
       "   UDI Product ID Type  Air temperature [K]  Process temperature [K]  \\\n",
       "0    1     M14860    M                298.1                    308.6   \n",
       "1    2     L47181    L                298.2                    308.7   \n",
       "2    3     L47182    L                298.1                    308.5   \n",
       "3    4     L47183    L                298.2                    308.6   \n",
       "4    5     L47184    L                298.2                    308.7   \n",
       "\n",
       "   Rotational speed [rpm]  Torque [Nm]  Tool wear [min]  Machine failure  TWF  \\\n",
       "0                    1551         42.8                0                0    0   \n",
       "1                    1408         46.3                3                0    0   \n",
       "2                    1498         49.4                5                0    0   \n",
       "3                    1433         39.5                7                0    0   \n",
       "4                    1408         40.0                9                0    0   \n",
       "\n",
       "   HDF  PWF  OSF  RNF  \n",
       "0    0    0    0    0  \n",
       "1    0    0    0    0  \n",
       "2    0    0    0    0  \n",
       "3    0    0    0    0  \n",
       "4    0    0    0    0  "
      ]
     },
     "execution_count": 6,
     "metadata": {},
     "output_type": "execute_result"
    }
   ],
   "source": [
    "df.head()"
   ]
  },
  {
   "cell_type": "code",
   "execution_count": 7,
   "id": "2b47822a",
   "metadata": {
    "id": "XeXhY8EU5K3G",
    "papermill": {
     "duration": 0.020563,
     "end_time": "2023-06-12T08:12:59.378487",
     "exception": false,
     "start_time": "2023-06-12T08:12:59.357924",
     "status": "completed"
    },
    "tags": []
   },
   "outputs": [],
   "source": [
    "num = list(df.columns[3:8])\n",
    "cat = [df.columns[2]]\n",
    "label_binary = [df.columns[8]]\n",
    "label_multi = list(df.columns[9:])"
   ]
  },
  {
   "cell_type": "code",
   "execution_count": 8,
   "id": "9904dd05",
   "metadata": {
    "id": "HrIGVLl1iUqx",
    "outputId": "51ee1f6a-7fbb-4b4b-c22e-efba11d4f149",
    "papermill": {
     "duration": 0.045401,
     "end_time": "2023-06-12T08:12:59.435419",
     "exception": false,
     "start_time": "2023-06-12T08:12:59.390018",
     "status": "completed"
    },
    "tags": []
   },
   "outputs": [
    {
     "name": "stdout",
     "output_type": "stream",
     "text": [
      "<class 'pandas.core.frame.DataFrame'>\n",
      "RangeIndex: 10000 entries, 0 to 9999\n",
      "Data columns (total 14 columns):\n",
      " #   Column                   Non-Null Count  Dtype  \n",
      "---  ------                   --------------  -----  \n",
      " 0   UDI                      10000 non-null  int64  \n",
      " 1   Product ID               10000 non-null  object \n",
      " 2   Type                     10000 non-null  object \n",
      " 3   Air temperature [K]      10000 non-null  float64\n",
      " 4   Process temperature [K]  10000 non-null  float64\n",
      " 5   Rotational speed [rpm]   10000 non-null  int64  \n",
      " 6   Torque [Nm]              10000 non-null  float64\n",
      " 7   Tool wear [min]          10000 non-null  int64  \n",
      " 8   Machine failure          10000 non-null  int64  \n",
      " 9   TWF                      10000 non-null  int64  \n",
      " 10  HDF                      10000 non-null  int64  \n",
      " 11  PWF                      10000 non-null  int64  \n",
      " 12  OSF                      10000 non-null  int64  \n",
      " 13  RNF                      10000 non-null  int64  \n",
      "dtypes: float64(3), int64(9), object(2)\n",
      "memory usage: 1.1+ MB\n"
     ]
    }
   ],
   "source": [
    "df.info()"
   ]
  },
  {
   "cell_type": "markdown",
   "id": "3aaefb80",
   "metadata": {
    "id": "kDUJoZLCiavu",
    "papermill": {
     "duration": 0.011302,
     "end_time": "2023-06-12T08:12:59.458949",
     "exception": false,
     "start_time": "2023-06-12T08:12:59.447647",
     "status": "completed"
    },
    "tags": []
   },
   "source": [
    "## **Check Missing Value** ##"
   ]
  },
  {
   "cell_type": "code",
   "execution_count": 9,
   "id": "fc227ec3",
   "metadata": {
    "id": "A_hgJPlpiiuC",
    "outputId": "fd5aec02-6ee6-4c21-c2dd-c280c672e93b",
    "papermill": {
     "duration": 0.029528,
     "end_time": "2023-06-12T08:12:59.500038",
     "exception": false,
     "start_time": "2023-06-12T08:12:59.470510",
     "status": "completed"
    },
    "tags": []
   },
   "outputs": [
    {
     "data": {
      "text/plain": [
       "UDI                        0\n",
       "Product ID                 0\n",
       "Type                       0\n",
       "Air temperature [K]        0\n",
       "Process temperature [K]    0\n",
       "Rotational speed [rpm]     0\n",
       "Torque [Nm]                0\n",
       "Tool wear [min]            0\n",
       "Machine failure            0\n",
       "TWF                        0\n",
       "HDF                        0\n",
       "PWF                        0\n",
       "OSF                        0\n",
       "RNF                        0\n",
       "dtype: int64"
      ]
     },
     "execution_count": 9,
     "metadata": {},
     "output_type": "execute_result"
    }
   ],
   "source": [
    "df.isnull().sum()"
   ]
  },
  {
   "cell_type": "markdown",
   "id": "324daafb",
   "metadata": {
    "id": "6lLxEkIfiweT",
    "papermill": {
     "duration": 0.011808,
     "end_time": "2023-06-12T08:12:59.524150",
     "exception": false,
     "start_time": "2023-06-12T08:12:59.512342",
     "status": "completed"
    },
    "tags": []
   },
   "source": [
    "there are no missing values"
   ]
  },
  {
   "cell_type": "markdown",
   "id": "3304aade",
   "metadata": {
    "id": "IoAD7lNdipFv",
    "papermill": {
     "duration": 0.011615,
     "end_time": "2023-06-12T08:12:59.547412",
     "exception": false,
     "start_time": "2023-06-12T08:12:59.535797",
     "status": "completed"
    },
    "tags": []
   },
   "source": [
    "##**Check Duplicated Data**##"
   ]
  },
  {
   "cell_type": "code",
   "execution_count": 10,
   "id": "65ef8252",
   "metadata": {
    "id": "gxEQmYpYitvF",
    "outputId": "b6fffa0d-912e-432b-ab62-3b6c902b110a",
    "papermill": {
     "duration": 0.036017,
     "end_time": "2023-06-12T08:12:59.595412",
     "exception": false,
     "start_time": "2023-06-12T08:12:59.559395",
     "status": "completed"
    },
    "tags": []
   },
   "outputs": [
    {
     "data": {
      "text/html": [
       "<div>\n",
       "<style scoped>\n",
       "    .dataframe tbody tr th:only-of-type {\n",
       "        vertical-align: middle;\n",
       "    }\n",
       "\n",
       "    .dataframe tbody tr th {\n",
       "        vertical-align: top;\n",
       "    }\n",
       "\n",
       "    .dataframe thead th {\n",
       "        text-align: right;\n",
       "    }\n",
       "</style>\n",
       "<table border=\"1\" class=\"dataframe\">\n",
       "  <thead>\n",
       "    <tr style=\"text-align: right;\">\n",
       "      <th></th>\n",
       "      <th>UDI</th>\n",
       "      <th>Product ID</th>\n",
       "      <th>Type</th>\n",
       "      <th>Air temperature [K]</th>\n",
       "      <th>Process temperature [K]</th>\n",
       "      <th>Rotational speed [rpm]</th>\n",
       "      <th>Torque [Nm]</th>\n",
       "      <th>Tool wear [min]</th>\n",
       "      <th>Machine failure</th>\n",
       "      <th>TWF</th>\n",
       "      <th>HDF</th>\n",
       "      <th>PWF</th>\n",
       "      <th>OSF</th>\n",
       "      <th>RNF</th>\n",
       "    </tr>\n",
       "  </thead>\n",
       "  <tbody>\n",
       "  </tbody>\n",
       "</table>\n",
       "</div>"
      ],
      "text/plain": [
       "Empty DataFrame\n",
       "Columns: [UDI, Product ID, Type, Air temperature [K], Process temperature [K], Rotational speed [rpm], Torque [Nm], Tool wear [min], Machine failure, TWF, HDF, PWF, OSF, RNF]\n",
       "Index: []"
      ]
     },
     "execution_count": 10,
     "metadata": {},
     "output_type": "execute_result"
    }
   ],
   "source": [
    "df[df.duplicated(keep=False)]"
   ]
  },
  {
   "cell_type": "code",
   "execution_count": 11,
   "id": "52d198bd",
   "metadata": {
    "id": "KX06FHP80pyh",
    "outputId": "a349a861-c742-4245-e216-f994ae5aad28",
    "papermill": {
     "duration": 0.029164,
     "end_time": "2023-06-12T08:12:59.637082",
     "exception": false,
     "start_time": "2023-06-12T08:12:59.607918",
     "status": "completed"
    },
    "tags": []
   },
   "outputs": [
    {
     "data": {
      "text/plain": [
       "0"
      ]
     },
     "execution_count": 11,
     "metadata": {},
     "output_type": "execute_result"
    }
   ],
   "source": [
    "df.duplicated().sum()"
   ]
  },
  {
   "cell_type": "markdown",
   "id": "185a0111",
   "metadata": {
    "id": "DcwreR1wizf9",
    "papermill": {
     "duration": 0.01172,
     "end_time": "2023-06-12T08:12:59.660826",
     "exception": false,
     "start_time": "2023-06-12T08:12:59.649106",
     "status": "completed"
    },
    "tags": []
   },
   "source": [
    "There are no duplicated data"
   ]
  },
  {
   "cell_type": "markdown",
   "id": "4e039dbe",
   "metadata": {
    "id": "Z6hzg2Yp42P9",
    "papermill": {
     "duration": 0.011806,
     "end_time": "2023-06-12T08:12:59.684595",
     "exception": false,
     "start_time": "2023-06-12T08:12:59.672789",
     "status": "completed"
    },
    "tags": []
   },
   "source": [
    "##**Check Entry Errors**##"
   ]
  },
  {
   "cell_type": "code",
   "execution_count": 12,
   "id": "4db9070f",
   "metadata": {
    "id": "shawNFYjg3Og",
    "outputId": "aadb8a52-210e-44fb-c058-cc0f390b59f1",
    "papermill": {
     "duration": 0.028636,
     "end_time": "2023-06-12T08:12:59.726215",
     "exception": false,
     "start_time": "2023-06-12T08:12:59.697579",
     "status": "completed"
    },
    "tags": []
   },
   "outputs": [
    {
     "data": {
      "text/html": [
       "<div>\n",
       "<style scoped>\n",
       "    .dataframe tbody tr th:only-of-type {\n",
       "        vertical-align: middle;\n",
       "    }\n",
       "\n",
       "    .dataframe tbody tr th {\n",
       "        vertical-align: top;\n",
       "    }\n",
       "\n",
       "    .dataframe thead th {\n",
       "        text-align: right;\n",
       "    }\n",
       "</style>\n",
       "<table border=\"1\" class=\"dataframe\">\n",
       "  <thead>\n",
       "    <tr style=\"text-align: right;\">\n",
       "      <th></th>\n",
       "      <th>Machine failure</th>\n",
       "      <th>TWF</th>\n",
       "      <th>HDF</th>\n",
       "      <th>PWF</th>\n",
       "      <th>OSF</th>\n",
       "      <th>RNF</th>\n",
       "    </tr>\n",
       "  </thead>\n",
       "  <tbody>\n",
       "    <tr>\n",
       "      <th>1437</th>\n",
       "      <td>1</td>\n",
       "      <td>0</td>\n",
       "      <td>0</td>\n",
       "      <td>0</td>\n",
       "      <td>0</td>\n",
       "      <td>0</td>\n",
       "    </tr>\n",
       "    <tr>\n",
       "      <th>2749</th>\n",
       "      <td>1</td>\n",
       "      <td>0</td>\n",
       "      <td>0</td>\n",
       "      <td>0</td>\n",
       "      <td>0</td>\n",
       "      <td>0</td>\n",
       "    </tr>\n",
       "    <tr>\n",
       "      <th>4044</th>\n",
       "      <td>1</td>\n",
       "      <td>0</td>\n",
       "      <td>0</td>\n",
       "      <td>0</td>\n",
       "      <td>0</td>\n",
       "      <td>0</td>\n",
       "    </tr>\n",
       "    <tr>\n",
       "      <th>4684</th>\n",
       "      <td>1</td>\n",
       "      <td>0</td>\n",
       "      <td>0</td>\n",
       "      <td>0</td>\n",
       "      <td>0</td>\n",
       "      <td>0</td>\n",
       "    </tr>\n",
       "    <tr>\n",
       "      <th>5536</th>\n",
       "      <td>1</td>\n",
       "      <td>0</td>\n",
       "      <td>0</td>\n",
       "      <td>0</td>\n",
       "      <td>0</td>\n",
       "      <td>0</td>\n",
       "    </tr>\n",
       "    <tr>\n",
       "      <th>5941</th>\n",
       "      <td>1</td>\n",
       "      <td>0</td>\n",
       "      <td>0</td>\n",
       "      <td>0</td>\n",
       "      <td>0</td>\n",
       "      <td>0</td>\n",
       "    </tr>\n",
       "    <tr>\n",
       "      <th>6478</th>\n",
       "      <td>1</td>\n",
       "      <td>0</td>\n",
       "      <td>0</td>\n",
       "      <td>0</td>\n",
       "      <td>0</td>\n",
       "      <td>0</td>\n",
       "    </tr>\n",
       "    <tr>\n",
       "      <th>8506</th>\n",
       "      <td>1</td>\n",
       "      <td>0</td>\n",
       "      <td>0</td>\n",
       "      <td>0</td>\n",
       "      <td>0</td>\n",
       "      <td>0</td>\n",
       "    </tr>\n",
       "    <tr>\n",
       "      <th>9015</th>\n",
       "      <td>1</td>\n",
       "      <td>0</td>\n",
       "      <td>0</td>\n",
       "      <td>0</td>\n",
       "      <td>0</td>\n",
       "      <td>0</td>\n",
       "    </tr>\n",
       "  </tbody>\n",
       "</table>\n",
       "</div>"
      ],
      "text/plain": [
       "      Machine failure  TWF  HDF  PWF  OSF  RNF\n",
       "1437                1    0    0    0    0    0\n",
       "2749                1    0    0    0    0    0\n",
       "4044                1    0    0    0    0    0\n",
       "4684                1    0    0    0    0    0\n",
       "5536                1    0    0    0    0    0\n",
       "5941                1    0    0    0    0    0\n",
       "6478                1    0    0    0    0    0\n",
       "8506                1    0    0    0    0    0\n",
       "9015                1    0    0    0    0    0"
      ]
     },
     "execution_count": 12,
     "metadata": {},
     "output_type": "execute_result"
    }
   ],
   "source": [
    "df_failures = df.loc[df[label_binary[0]] == 1]\n",
    "df_failures[(df_failures[label_multi] == 0).all(axis=1)][label_binary + label_multi]"
   ]
  },
  {
   "cell_type": "code",
   "execution_count": 13,
   "id": "d1943031",
   "metadata": {
    "id": "PgJlBt0zpyaJ",
    "papermill": {
     "duration": 0.023513,
     "end_time": "2023-06-12T08:12:59.761898",
     "exception": false,
     "start_time": "2023-06-12T08:12:59.738385",
     "status": "completed"
    },
    "tags": []
   },
   "outputs": [],
   "source": [
    "df.drop(df_failures[(df_failures[label_multi] == 0).all(axis=1)][label_binary + label_multi].index, inplace = True)"
   ]
  },
  {
   "cell_type": "code",
   "execution_count": 14,
   "id": "1c0a44f6",
   "metadata": {
    "id": "ixtAJypHhwrc",
    "outputId": "1ee60e7c-90de-4813-d388-6edbb7e1de16",
    "papermill": {
     "duration": 0.032239,
     "end_time": "2023-06-12T08:12:59.806639",
     "exception": false,
     "start_time": "2023-06-12T08:12:59.774400",
     "status": "completed"
    },
    "tags": []
   },
   "outputs": [
    {
     "data": {
      "text/html": [
       "<div>\n",
       "<style scoped>\n",
       "    .dataframe tbody tr th:only-of-type {\n",
       "        vertical-align: middle;\n",
       "    }\n",
       "\n",
       "    .dataframe tbody tr th {\n",
       "        vertical-align: top;\n",
       "    }\n",
       "\n",
       "    .dataframe thead th {\n",
       "        text-align: right;\n",
       "    }\n",
       "</style>\n",
       "<table border=\"1\" class=\"dataframe\">\n",
       "  <thead>\n",
       "    <tr style=\"text-align: right;\">\n",
       "      <th></th>\n",
       "      <th>Machine failure</th>\n",
       "      <th>TWF</th>\n",
       "      <th>HDF</th>\n",
       "      <th>PWF</th>\n",
       "      <th>OSF</th>\n",
       "      <th>RNF</th>\n",
       "    </tr>\n",
       "  </thead>\n",
       "  <tbody>\n",
       "    <tr>\n",
       "      <th>1221</th>\n",
       "      <td>0</td>\n",
       "      <td>0</td>\n",
       "      <td>0</td>\n",
       "      <td>0</td>\n",
       "      <td>0</td>\n",
       "      <td>1</td>\n",
       "    </tr>\n",
       "    <tr>\n",
       "      <th>1302</th>\n",
       "      <td>0</td>\n",
       "      <td>0</td>\n",
       "      <td>0</td>\n",
       "      <td>0</td>\n",
       "      <td>0</td>\n",
       "      <td>1</td>\n",
       "    </tr>\n",
       "    <tr>\n",
       "      <th>1748</th>\n",
       "      <td>0</td>\n",
       "      <td>0</td>\n",
       "      <td>0</td>\n",
       "      <td>0</td>\n",
       "      <td>0</td>\n",
       "      <td>1</td>\n",
       "    </tr>\n",
       "    <tr>\n",
       "      <th>2072</th>\n",
       "      <td>0</td>\n",
       "      <td>0</td>\n",
       "      <td>0</td>\n",
       "      <td>0</td>\n",
       "      <td>0</td>\n",
       "      <td>1</td>\n",
       "    </tr>\n",
       "    <tr>\n",
       "      <th>2559</th>\n",
       "      <td>0</td>\n",
       "      <td>0</td>\n",
       "      <td>0</td>\n",
       "      <td>0</td>\n",
       "      <td>0</td>\n",
       "      <td>1</td>\n",
       "    </tr>\n",
       "    <tr>\n",
       "      <th>3065</th>\n",
       "      <td>0</td>\n",
       "      <td>0</td>\n",
       "      <td>0</td>\n",
       "      <td>0</td>\n",
       "      <td>0</td>\n",
       "      <td>1</td>\n",
       "    </tr>\n",
       "    <tr>\n",
       "      <th>3452</th>\n",
       "      <td>0</td>\n",
       "      <td>0</td>\n",
       "      <td>0</td>\n",
       "      <td>0</td>\n",
       "      <td>0</td>\n",
       "      <td>1</td>\n",
       "    </tr>\n",
       "    <tr>\n",
       "      <th>5471</th>\n",
       "      <td>0</td>\n",
       "      <td>0</td>\n",
       "      <td>0</td>\n",
       "      <td>0</td>\n",
       "      <td>0</td>\n",
       "      <td>1</td>\n",
       "    </tr>\n",
       "    <tr>\n",
       "      <th>5489</th>\n",
       "      <td>0</td>\n",
       "      <td>0</td>\n",
       "      <td>0</td>\n",
       "      <td>0</td>\n",
       "      <td>0</td>\n",
       "      <td>1</td>\n",
       "    </tr>\n",
       "    <tr>\n",
       "      <th>5495</th>\n",
       "      <td>0</td>\n",
       "      <td>0</td>\n",
       "      <td>0</td>\n",
       "      <td>0</td>\n",
       "      <td>0</td>\n",
       "      <td>1</td>\n",
       "    </tr>\n",
       "    <tr>\n",
       "      <th>5509</th>\n",
       "      <td>0</td>\n",
       "      <td>0</td>\n",
       "      <td>0</td>\n",
       "      <td>0</td>\n",
       "      <td>0</td>\n",
       "      <td>1</td>\n",
       "    </tr>\n",
       "    <tr>\n",
       "      <th>5553</th>\n",
       "      <td>0</td>\n",
       "      <td>0</td>\n",
       "      <td>0</td>\n",
       "      <td>0</td>\n",
       "      <td>0</td>\n",
       "      <td>1</td>\n",
       "    </tr>\n",
       "    <tr>\n",
       "      <th>5639</th>\n",
       "      <td>0</td>\n",
       "      <td>0</td>\n",
       "      <td>0</td>\n",
       "      <td>0</td>\n",
       "      <td>0</td>\n",
       "      <td>1</td>\n",
       "    </tr>\n",
       "    <tr>\n",
       "      <th>6091</th>\n",
       "      <td>0</td>\n",
       "      <td>0</td>\n",
       "      <td>0</td>\n",
       "      <td>0</td>\n",
       "      <td>0</td>\n",
       "      <td>1</td>\n",
       "    </tr>\n",
       "    <tr>\n",
       "      <th>6913</th>\n",
       "      <td>0</td>\n",
       "      <td>0</td>\n",
       "      <td>0</td>\n",
       "      <td>0</td>\n",
       "      <td>0</td>\n",
       "      <td>1</td>\n",
       "    </tr>\n",
       "    <tr>\n",
       "      <th>6960</th>\n",
       "      <td>0</td>\n",
       "      <td>0</td>\n",
       "      <td>0</td>\n",
       "      <td>0</td>\n",
       "      <td>0</td>\n",
       "      <td>1</td>\n",
       "    </tr>\n",
       "    <tr>\n",
       "      <th>7488</th>\n",
       "      <td>0</td>\n",
       "      <td>0</td>\n",
       "      <td>0</td>\n",
       "      <td>0</td>\n",
       "      <td>0</td>\n",
       "      <td>1</td>\n",
       "    </tr>\n",
       "    <tr>\n",
       "      <th>7868</th>\n",
       "      <td>0</td>\n",
       "      <td>0</td>\n",
       "      <td>0</td>\n",
       "      <td>0</td>\n",
       "      <td>0</td>\n",
       "      <td>1</td>\n",
       "    </tr>\n",
       "  </tbody>\n",
       "</table>\n",
       "</div>"
      ],
      "text/plain": [
       "      Machine failure  TWF  HDF  PWF  OSF  RNF\n",
       "1221                0    0    0    0    0    1\n",
       "1302                0    0    0    0    0    1\n",
       "1748                0    0    0    0    0    1\n",
       "2072                0    0    0    0    0    1\n",
       "2559                0    0    0    0    0    1\n",
       "3065                0    0    0    0    0    1\n",
       "3452                0    0    0    0    0    1\n",
       "5471                0    0    0    0    0    1\n",
       "5489                0    0    0    0    0    1\n",
       "5495                0    0    0    0    0    1\n",
       "5509                0    0    0    0    0    1\n",
       "5553                0    0    0    0    0    1\n",
       "5639                0    0    0    0    0    1\n",
       "6091                0    0    0    0    0    1\n",
       "6913                0    0    0    0    0    1\n",
       "6960                0    0    0    0    0    1\n",
       "7488                0    0    0    0    0    1\n",
       "7868                0    0    0    0    0    1"
      ]
     },
     "execution_count": 14,
     "metadata": {},
     "output_type": "execute_result"
    }
   ],
   "source": [
    "df_nonfailures = df.loc[df[label_binary[0]] == 0]\n",
    "df_nonfailures[(df_nonfailures[label_multi] != 0).any(axis=1)][label_binary + label_multi]"
   ]
  },
  {
   "cell_type": "code",
   "execution_count": 15,
   "id": "65e95e2f",
   "metadata": {
    "id": "6KdqaVjuvrFK",
    "papermill": {
     "duration": 0.028145,
     "end_time": "2023-06-12T08:12:59.847572",
     "exception": false,
     "start_time": "2023-06-12T08:12:59.819427",
     "status": "completed"
    },
    "tags": []
   },
   "outputs": [],
   "source": [
    "nonfailures_index = df_nonfailures[(df_nonfailures[label_multi] != 0).any(axis=1)][label_binary].index\n",
    "df.loc[nonfailures_index, label_binary] = df.loc[nonfailures_index, label_binary].replace(0, 1, inplace = False)"
   ]
  },
  {
   "cell_type": "code",
   "execution_count": 16,
   "id": "52cc18ed",
   "metadata": {
    "id": "vWBNgJWQ1gF4",
    "papermill": {
     "duration": 0.021521,
     "end_time": "2023-06-12T08:12:59.882213",
     "exception": false,
     "start_time": "2023-06-12T08:12:59.860692",
     "status": "completed"
    },
    "tags": []
   },
   "outputs": [],
   "source": [
    "df.reset_index(drop = True, inplace = True)"
   ]
  },
  {
   "cell_type": "markdown",
   "id": "add2f502",
   "metadata": {
    "id": "0_c-IzIxh13Y",
    "papermill": {
     "duration": 0.012654,
     "end_time": "2023-06-12T08:12:59.907887",
     "exception": false,
     "start_time": "2023-06-12T08:12:59.895233",
     "status": "completed"
    },
    "tags": []
   },
   "source": [
    "##**Check Outliers**##"
   ]
  },
  {
   "cell_type": "code",
   "execution_count": 17,
   "id": "ebac6bf3",
   "metadata": {
    "id": "sOK0aJTUPH9c",
    "outputId": "de3ee785-29a0-4ed7-81ac-040be27d4dbb",
    "papermill": {
     "duration": 0.795712,
     "end_time": "2023-06-12T08:13:00.716819",
     "exception": false,
     "start_time": "2023-06-12T08:12:59.921107",
     "status": "completed"
    },
    "tags": []
   },
   "outputs": [
    {
     "data": {
      "image/png": "[encoded data removed]",
      "text/plain": [
       "<Figure size 1728x360 with 5 Axes>"
      ]
     },
     "metadata": {},
     "output_type": "display_data"
    }
   ],
   "source": [
    "#outliers\n",
    "plt.figure(figsize=(24,5))\n",
    "for idx, feature in enumerate(num):\n",
    "  plt.subplot(1,len(num),idx+1)\n",
    "  sns.boxplot(data = df, y = feature).set(ylabel = None, title = feature)"
   ]
  },
  {
   "cell_type": "markdown",
   "id": "c89b82bc",
   "metadata": {
    "id": "TVbpT8ZczKoO",
    "papermill": {
     "duration": 0.014007,
     "end_time": "2023-06-12T08:13:00.744504",
     "exception": false,
     "start_time": "2023-06-12T08:13:00.730497",
     "status": "completed"
    },
    "tags": []
   },
   "source": [
    "##**Descriptive Statistics**"
   ]
  },
  {
   "cell_type": "code",
   "execution_count": 18,
   "id": "b276c9e3",
   "metadata": {
    "id": "bcC-WMCwtlpC",
    "outputId": "1bd7ffcb-dacb-4b28-c0dd-60b3b349b0a7",
    "papermill": {
     "duration": 0.042381,
     "end_time": "2023-06-12T08:13:00.800227",
     "exception": false,
     "start_time": "2023-06-12T08:13:00.757846",
     "status": "completed"
    },
    "tags": []
   },
   "outputs": [
    {
     "data": {
      "text/html": [
       "<div>\n",
       "<style scoped>\n",
       "    .dataframe tbody tr th:only-of-type {\n",
       "        vertical-align: middle;\n",
       "    }\n",
       "\n",
       "    .dataframe tbody tr th {\n",
       "        vertical-align: top;\n",
       "    }\n",
       "\n",
       "    .dataframe thead th {\n",
       "        text-align: right;\n",
       "    }\n",
       "</style>\n",
       "<table border=\"1\" class=\"dataframe\">\n",
       "  <thead>\n",
       "    <tr style=\"text-align: right;\">\n",
       "      <th></th>\n",
       "      <th>Air temperature [K]</th>\n",
       "      <th>Process temperature [K]</th>\n",
       "      <th>Rotational speed [rpm]</th>\n",
       "      <th>Torque [Nm]</th>\n",
       "      <th>Tool wear [min]</th>\n",
       "    </tr>\n",
       "  </thead>\n",
       "  <tbody>\n",
       "    <tr>\n",
       "      <th>TWF</th>\n",
       "      <td>300.30</td>\n",
       "      <td>310.17</td>\n",
       "      <td>1566.17</td>\n",
       "      <td>37.84</td>\n",
       "      <td>216.37</td>\n",
       "    </tr>\n",
       "    <tr>\n",
       "      <th>HDF</th>\n",
       "      <td>302.56</td>\n",
       "      <td>310.79</td>\n",
       "      <td>1337.26</td>\n",
       "      <td>53.17</td>\n",
       "      <td>107.19</td>\n",
       "    </tr>\n",
       "    <tr>\n",
       "      <th>PWF</th>\n",
       "      <td>300.08</td>\n",
       "      <td>309.95</td>\n",
       "      <td>1763.97</td>\n",
       "      <td>48.51</td>\n",
       "      <td>101.88</td>\n",
       "    </tr>\n",
       "    <tr>\n",
       "      <th>OSF</th>\n",
       "      <td>300.04</td>\n",
       "      <td>310.07</td>\n",
       "      <td>1350.33</td>\n",
       "      <td>58.37</td>\n",
       "      <td>207.69</td>\n",
       "    </tr>\n",
       "    <tr>\n",
       "      <th>RNF</th>\n",
       "      <td>300.82</td>\n",
       "      <td>310.76</td>\n",
       "      <td>1485.00</td>\n",
       "      <td>43.67</td>\n",
       "      <td>124.47</td>\n",
       "    </tr>\n",
       "  </tbody>\n",
       "</table>\n",
       "</div>"
      ],
      "text/plain": [
       "     Air temperature [K]  Process temperature [K]  Rotational speed [rpm]  \\\n",
       "TWF               300.30                   310.17                 1566.17   \n",
       "HDF               302.56                   310.79                 1337.26   \n",
       "PWF               300.08                   309.95                 1763.97   \n",
       "OSF               300.04                   310.07                 1350.33   \n",
       "RNF               300.82                   310.76                 1485.00   \n",
       "\n",
       "     Torque [Nm]  Tool wear [min]  \n",
       "TWF        37.84           216.37  \n",
       "HDF        53.17           107.19  \n",
       "PWF        48.51           101.88  \n",
       "OSF        58.37           207.69  \n",
       "RNF        43.67           124.47  "
      ]
     },
     "execution_count": 18,
     "metadata": {},
     "output_type": "execute_result"
    }
   ],
   "source": [
    "df_mean = pd.DataFrame()\n",
    "for i in label_multi:\n",
    "  class_mean = pd.DataFrame(round(df[df[i] == 1][num].mean(), 2)).T\n",
    "  df_mean = pd.concat([df_mean,class_mean])\n",
    "df_mean.index = label_multi\n",
    "\n",
    "df_mean"
   ]
  },
  {
   "cell_type": "code",
   "execution_count": 20,
   "id": "8c9ad360",
   "metadata": {
    "id": "8w1tPlNotruB",
    "outputId": "1821eb82-bf7b-4e70-c053-955a5f551362",
    "papermill": {
     "duration": 0.03584,
     "end_time": "2023-06-12T08:13:00.850852",
     "exception": false,
     "start_time": "2023-06-12T08:13:00.815012",
     "status": "completed"
    },
    "tags": []
   },
   "outputs": [],
   "source": [
    "# Assuming df contains your DataFrame\n",
    "numeric_df = df.select_dtypes(include='number')\n",
    "correlation_matrix = numeric_df.corr()\n",
    "\n",
    "# If you want to slice the correlation matrix for specific rows and columns:\n",
    "# Here, 7: represents the rows from the 7th index (inclusive) to the end, and 1:6 represents columns from the 1st index (inclusive) to the 5th index (exclusive).\n",
    "subset_correlation_matrix = correlation_matrix.iloc[7:, 1:6]"
   ]
  },
  {
   "cell_type": "markdown",
   "id": "f95711fd",
   "metadata": {
    "id": "iX1f8KzWiDpw",
    "papermill": {
     "duration": 0.014438,
     "end_time": "2023-06-12T08:13:00.880015",
     "exception": false,
     "start_time": "2023-06-12T08:13:00.865577",
     "status": "completed"
    },
    "tags": []
   },
   "source": [
    "##**Distribution**##"
   ]
  },
  {
   "cell_type": "code",
   "execution_count": 21,
   "id": "8f89c1b3",
   "metadata": {
    "id": "dIUWMqx3Q7Zi",
    "outputId": "ad15db78-b1c6-4761-b993-6fcb290af5c2",
    "papermill": {
     "duration": 0.999565,
     "end_time": "2023-06-12T08:13:01.894086",
     "exception": false,
     "start_time": "2023-06-12T08:13:00.894521",
     "status": "completed"
    },
    "tags": []
   },
   "outputs": [
    {
     "data": {
      "image/png": "[encoded data removed]",
      "text/plain": [
       "<Figure size 1728x360 with 5 Axes>"
      ]
     },
     "metadata": {},
     "output_type": "display_data"
    }
   ],
   "source": [
    "#dist: histogram\n",
    "plt.figure(figsize=(24,5))\n",
    "for idx, feature in enumerate(num):\n",
    "  plt.subplot(1,len(num),idx+1)\n",
    "  sns.histplot(data = df, x = feature, stat = 'count', bins = 20)"
   ]
  },
  {
   "cell_type": "code",
   "execution_count": 22,
   "id": "a9286264",
   "metadata": {
    "id": "CIceFEPQW_H8",
    "outputId": "3da63285-8723-448c-9f53-e9bc79849c4d",
    "papermill": {
     "duration": 0.03161,
     "end_time": "2023-06-12T08:13:01.941008",
     "exception": false,
     "start_time": "2023-06-12T08:13:01.909398",
     "status": "completed"
    },
    "tags": []
   },
   "outputs": [
    {
     "data": {
      "text/plain": [
       "MultiIndex([('L',),\n",
       "            ('M',),\n",
       "            ('H',)],\n",
       "           names=['Type'])"
      ]
     },
     "execution_count": 22,
     "metadata": {},
     "output_type": "execute_result"
    }
   ],
   "source": [
    "df[cat].value_counts().index"
   ]
  },
  {
   "cell_type": "code",
   "execution_count": 24,
   "id": "5418f765",
   "metadata": {
    "id": "uuyJaQuGRFyO",
    "outputId": "4a5495d7-d2fb-4a07-8b8a-660432f23303",
    "papermill": {
     "duration": 0.168974,
     "end_time": "2023-06-12T08:13:02.125628",
     "exception": false,
     "start_time": "2023-06-12T08:13:01.956654",
     "status": "completed"
    },
    "tags": []
   },
   "outputs": [
    {
     "data": {
      "image/png": "[encoded data removed]",
      "text/plain": [
       "<Figure size 288x288 with 1 Axes>"
      ]
     },
     "metadata": {},
     "output_type": "display_data"
    }
   ],
   "source": [
    "import seaborn as sns\n",
    "import matplotlib.pyplot as plt\n",
    "\n",
    "plt.figure(figsize=(4, 4))\n",
    "f = sns.countplot(data=df, x=cat[0])\n",
    "\n",
    "# Adding labels to the bars\n",
    "for p in f.patches:\n",
    "    height = p.get_height()\n",
    "    f.annotate(f'{height}', (p.get_x() + p.get_width() / 2., height),\n",
    "               ha='center', va='bottom')\n",
    "\n",
    "plt.show()"
   ]
  },
  {
   "cell_type": "code",
   "execution_count": 25,
   "id": "351ad29d",
   "metadata": {
    "id": "Lz19BVSHvVZj",
    "outputId": "a28b14f4-e3d8-4c0d-b46c-884790943134",
    "papermill": {
     "duration": 0.031628,
     "end_time": "2023-06-12T08:13:02.173904",
     "exception": false,
     "start_time": "2023-06-12T08:13:02.142276",
     "status": "completed"
    },
    "tags": []
   },
   "outputs": [
    {
     "data": {
      "text/plain": [
       "TWF  HDF  PWF  OSF  RNF\n",
       "0    1    0    0    0      106\n",
       "     0    1    0    0       80\n",
       "          0    1    0       78\n",
       "1    0    0    0    0       42\n",
       "0    0    0    0    1       18\n",
       "          1    1    0       11\n",
       "     1    0    1    0        6\n",
       "          1    0    0        3\n",
       "1    0    0    1    0        2\n",
       "               0    1        1\n",
       "          1    1    0        1\n",
       "dtype: int64"
      ]
     },
     "execution_count": 25,
     "metadata": {},
     "output_type": "execute_result"
    }
   ],
   "source": [
    "df[df['Machine failure']==1][label_multi].value_counts()"
   ]
  },
  {
   "cell_type": "markdown",
   "id": "14bcf9b2",
   "metadata": {
    "id": "a5c5kJtqWZNf",
    "papermill": {
     "duration": 0.015468,
     "end_time": "2023-06-12T08:13:02.205127",
     "exception": false,
     "start_time": "2023-06-12T08:13:02.189659",
     "status": "completed"
    },
    "tags": []
   },
   "source": [
    "## **Correlation plot**"
   ]
  },
  {
   "cell_type": "code",
   "execution_count": 26,
   "id": "183d47a1",
   "metadata": {
    "id": "bwfkmdPPlyBf",
    "outputId": "83b4c620-907e-45c8-d9c6-b48693b7b018",
    "papermill": {
     "duration": 0.416495,
     "end_time": "2023-06-12T08:13:02.637217",
     "exception": false,
     "start_time": "2023-06-12T08:13:02.220722",
     "status": "completed"
    },
    "tags": []
   },
   "outputs": [
    {
     "data": {
      "image/png": "[encoded data removed]",
      "text/plain": [
       "<Figure size 1080x1080 with 2 Axes>"
      ]
     },
     "metadata": {},
     "output_type": "display_data"
    }
   ],
   "source": [
    "correlation = df[num].corr()\n",
    "plt.figure(figsize=(15,15))\n",
    "sns.heatmap(correlation, vmin=0, vmax=1, center=0, annot=True,\n",
    "                 cmap=\"YlGnBu\", linewidths = 1.0,\n",
    "                 square=True)\n",
    "plt.show()"
   ]
  },
  {
   "cell_type": "markdown",
   "id": "127c1d66",
   "metadata": {
    "id": "o00JUiSnWdBW",
    "papermill": {
     "duration": 0.015347,
     "end_time": "2023-06-12T08:13:02.668666",
     "exception": false,
     "start_time": "2023-06-12T08:13:02.653319",
     "status": "completed"
    },
    "tags": []
   },
   "source": [
    "## **Perform label categorical feature encoding**"
   ]
  },
  {
   "cell_type": "code",
   "execution_count": 27,
   "id": "6a7aec87",
   "metadata": {
    "id": "AGAzd3ee2DtG",
    "papermill": {
     "duration": 0.032233,
     "end_time": "2023-06-12T08:13:02.716977",
     "exception": false,
     "start_time": "2023-06-12T08:13:02.684744",
     "status": "completed"
    },
    "tags": []
   },
   "outputs": [],
   "source": [
    "#test\n",
    "for i in (('L', 0), ('M', 1), ('H', 2)):\n",
    "  df.Type =  df.Type.replace(*i)"
   ]
  },
  {
   "cell_type": "code",
   "execution_count": 28,
   "id": "16b46c6e",
   "metadata": {
    "id": "Be55vrca2ZTB",
    "outputId": "debf12e8-0d81-4677-d3bd-e27259d0b348",
    "papermill": {
     "duration": 0.036753,
     "end_time": "2023-06-12T08:13:02.770521",
     "exception": false,
     "start_time": "2023-06-12T08:13:02.733768",
     "status": "completed"
    },
    "tags": []
   },
   "outputs": [
    {
     "data": {
      "text/html": [
       "<div>\n",
       "<style scoped>\n",
       "    .dataframe tbody tr th:only-of-type {\n",
       "        vertical-align: middle;\n",
       "    }\n",
       "\n",
       "    .dataframe tbody tr th {\n",
       "        vertical-align: top;\n",
       "    }\n",
       "\n",
       "    .dataframe thead th {\n",
       "        text-align: right;\n",
       "    }\n",
       "</style>\n",
       "<table border=\"1\" class=\"dataframe\">\n",
       "  <thead>\n",
       "    <tr style=\"text-align: right;\">\n",
       "      <th></th>\n",
       "      <th>UDI</th>\n",
       "      <th>Product ID</th>\n",
       "      <th>Type</th>\n",
       "      <th>Air temperature [K]</th>\n",
       "      <th>Process temperature [K]</th>\n",
       "      <th>Rotational speed [rpm]</th>\n",
       "      <th>Torque [Nm]</th>\n",
       "      <th>Tool wear [min]</th>\n",
       "      <th>Machine failure</th>\n",
       "      <th>TWF</th>\n",
       "      <th>HDF</th>\n",
       "      <th>PWF</th>\n",
       "      <th>OSF</th>\n",
       "      <th>RNF</th>\n",
       "    </tr>\n",
       "  </thead>\n",
       "  <tbody>\n",
       "    <tr>\n",
       "      <th>0</th>\n",
       "      <td>1</td>\n",
       "      <td>M14860</td>\n",
       "      <td>1</td>\n",
       "      <td>298.1</td>\n",
       "      <td>308.6</td>\n",
       "      <td>1551</td>\n",
       "      <td>42.8</td>\n",
       "      <td>0</td>\n",
       "      <td>0</td>\n",
       "      <td>0</td>\n",
       "      <td>0</td>\n",
       "      <td>0</td>\n",
       "      <td>0</td>\n",
       "      <td>0</td>\n",
       "    </tr>\n",
       "    <tr>\n",
       "      <th>1</th>\n",
       "      <td>2</td>\n",
       "      <td>L47181</td>\n",
       "      <td>0</td>\n",
       "      <td>298.2</td>\n",
       "      <td>308.7</td>\n",
       "      <td>1408</td>\n",
       "      <td>46.3</td>\n",
       "      <td>3</td>\n",
       "      <td>0</td>\n",
       "      <td>0</td>\n",
       "      <td>0</td>\n",
       "      <td>0</td>\n",
       "      <td>0</td>\n",
       "      <td>0</td>\n",
       "    </tr>\n",
       "    <tr>\n",
       "      <th>2</th>\n",
       "      <td>3</td>\n",
       "      <td>L47182</td>\n",
       "      <td>0</td>\n",
       "      <td>298.1</td>\n",
       "      <td>308.5</td>\n",
       "      <td>1498</td>\n",
       "      <td>49.4</td>\n",
       "      <td>5</td>\n",
       "      <td>0</td>\n",
       "      <td>0</td>\n",
       "      <td>0</td>\n",
       "      <td>0</td>\n",
       "      <td>0</td>\n",
       "      <td>0</td>\n",
       "    </tr>\n",
       "    <tr>\n",
       "      <th>3</th>\n",
       "      <td>4</td>\n",
       "      <td>L47183</td>\n",
       "      <td>0</td>\n",
       "      <td>298.2</td>\n",
       "      <td>308.6</td>\n",
       "      <td>1433</td>\n",
       "      <td>39.5</td>\n",
       "      <td>7</td>\n",
       "      <td>0</td>\n",
       "      <td>0</td>\n",
       "      <td>0</td>\n",
       "      <td>0</td>\n",
       "      <td>0</td>\n",
       "      <td>0</td>\n",
       "    </tr>\n",
       "    <tr>\n",
       "      <th>4</th>\n",
       "      <td>5</td>\n",
       "      <td>L47184</td>\n",
       "      <td>0</td>\n",
       "      <td>298.2</td>\n",
       "      <td>308.7</td>\n",
       "      <td>1408</td>\n",
       "      <td>40.0</td>\n",
       "      <td>9</td>\n",
       "      <td>0</td>\n",
       "      <td>0</td>\n",
       "      <td>0</td>\n",
       "      <td>0</td>\n",
       "      <td>0</td>\n",
       "      <td>0</td>\n",
       "    </tr>\n",
       "  </tbody>\n",
       "</table>\n",
       "</div>"
      ],
      "text/plain": [
       "   UDI Product ID  Type  Air temperature [K]  Process temperature [K]  \\\n",
       "0    1     M14860     1                298.1                    308.6   \n",
       "1    2     L47181     0                298.2                    308.7   \n",
       "2    3     L47182     0                298.1                    308.5   \n",
       "3    4     L47183     0                298.2                    308.6   \n",
       "4    5     L47184     0                298.2                    308.7   \n",
       "\n",
       "   Rotational speed [rpm]  Torque [Nm]  Tool wear [min]  Machine failure  TWF  \\\n",
       "0                    1551         42.8                0                0    0   \n",
       "1                    1408         46.3                3                0    0   \n",
       "2                    1498         49.4                5                0    0   \n",
       "3                    1433         39.5                7                0    0   \n",
       "4                    1408         40.0                9                0    0   \n",
       "\n",
       "   HDF  PWF  OSF  RNF  \n",
       "0    0    0    0    0  \n",
       "1    0    0    0    0  \n",
       "2    0    0    0    0  \n",
       "3    0    0    0    0  \n",
       "4    0    0    0    0  "
      ]
     },
     "execution_count": 28,
     "metadata": {},
     "output_type": "execute_result"
    }
   ],
   "source": [
    "df.head()"
   ]
  },
  {
   "cell_type": "markdown",
   "id": "0e644736",
   "metadata": {
    "id": "K1wNHQiiowB4",
    "papermill": {
     "duration": 0.017877,
     "end_time": "2023-06-12T08:13:02.805655",
     "exception": false,
     "start_time": "2023-06-12T08:13:02.787778",
     "status": "completed"
    },
    "tags": []
   },
   "source": [
    "##**Scaling Data**##"
   ]
  },
  {
   "cell_type": "code",
   "execution_count": 29,
   "id": "31106d25",
   "metadata": {
    "id": "hKSNZgj6aoMC",
    "papermill": {
     "duration": 0.370419,
     "end_time": "2023-06-12T08:13:03.193060",
     "exception": false,
     "start_time": "2023-06-12T08:13:02.822641",
     "status": "completed"
    },
    "tags": []
   },
   "outputs": [],
   "source": [
    "from sklearn.preprocessing import StandardScaler\n",
    "\n",
    "#create a scaler object\n",
    "scaler = StandardScaler()\n",
    "\n",
    "#perform scaling on the numeric column\n",
    "df[num] = scaler.fit_transform(df[num])"
   ]
  },
  {
   "cell_type": "code",
   "execution_count": 30,
   "id": "5fe25a80",
   "metadata": {
    "id": "KOCt8RPTaNyz",
    "outputId": "406cdad2-a30a-4990-f350-14b869b4df16",
    "papermill": {
     "duration": 0.032393,
     "end_time": "2023-06-12T08:13:03.242462",
     "exception": false,
     "start_time": "2023-06-12T08:13:03.210069",
     "status": "completed"
    },
    "tags": []
   },
   "outputs": [
    {
     "data": {
      "text/html": [
       "<div>\n",
       "<style scoped>\n",
       "    .dataframe tbody tr th:only-of-type {\n",
       "        vertical-align: middle;\n",
       "    }\n",
       "\n",
       "    .dataframe tbody tr th {\n",
       "        vertical-align: top;\n",
       "    }\n",
       "\n",
       "    .dataframe thead th {\n",
       "        text-align: right;\n",
       "    }\n",
       "</style>\n",
       "<table border=\"1\" class=\"dataframe\">\n",
       "  <thead>\n",
       "    <tr style=\"text-align: right;\">\n",
       "      <th></th>\n",
       "      <th>UDI</th>\n",
       "      <th>Product ID</th>\n",
       "      <th>Type</th>\n",
       "      <th>Air temperature [K]</th>\n",
       "      <th>Process temperature [K]</th>\n",
       "      <th>Rotational speed [rpm]</th>\n",
       "      <th>Torque [Nm]</th>\n",
       "      <th>Tool wear [min]</th>\n",
       "      <th>Machine failure</th>\n",
       "      <th>TWF</th>\n",
       "      <th>HDF</th>\n",
       "      <th>PWF</th>\n",
       "      <th>OSF</th>\n",
       "      <th>RNF</th>\n",
       "    </tr>\n",
       "  </thead>\n",
       "  <tbody>\n",
       "    <tr>\n",
       "      <th>0</th>\n",
       "      <td>1</td>\n",
       "      <td>M14860</td>\n",
       "      <td>1</td>\n",
       "      <td>-0.952222</td>\n",
       "      <td>-0.947078</td>\n",
       "      <td>0.068015</td>\n",
       "      <td>0.282351</td>\n",
       "      <td>-1.695786</td>\n",
       "      <td>0</td>\n",
       "      <td>0</td>\n",
       "      <td>0</td>\n",
       "      <td>0</td>\n",
       "      <td>0</td>\n",
       "      <td>0</td>\n",
       "    </tr>\n",
       "    <tr>\n",
       "      <th>1</th>\n",
       "      <td>2</td>\n",
       "      <td>L47181</td>\n",
       "      <td>0</td>\n",
       "      <td>-0.902227</td>\n",
       "      <td>-0.879689</td>\n",
       "      <td>-0.729478</td>\n",
       "      <td>0.633456</td>\n",
       "      <td>-1.648656</td>\n",
       "      <td>0</td>\n",
       "      <td>0</td>\n",
       "      <td>0</td>\n",
       "      <td>0</td>\n",
       "      <td>0</td>\n",
       "      <td>0</td>\n",
       "    </tr>\n",
       "    <tr>\n",
       "      <th>2</th>\n",
       "      <td>3</td>\n",
       "      <td>L47182</td>\n",
       "      <td>0</td>\n",
       "      <td>-0.952222</td>\n",
       "      <td>-1.014468</td>\n",
       "      <td>-0.227559</td>\n",
       "      <td>0.944434</td>\n",
       "      <td>-1.617236</td>\n",
       "      <td>0</td>\n",
       "      <td>0</td>\n",
       "      <td>0</td>\n",
       "      <td>0</td>\n",
       "      <td>0</td>\n",
       "      <td>0</td>\n",
       "    </tr>\n",
       "    <tr>\n",
       "      <th>3</th>\n",
       "      <td>4</td>\n",
       "      <td>L47183</td>\n",
       "      <td>0</td>\n",
       "      <td>-0.902227</td>\n",
       "      <td>-0.947078</td>\n",
       "      <td>-0.590056</td>\n",
       "      <td>-0.048691</td>\n",
       "      <td>-1.585816</td>\n",
       "      <td>0</td>\n",
       "      <td>0</td>\n",
       "      <td>0</td>\n",
       "      <td>0</td>\n",
       "      <td>0</td>\n",
       "      <td>0</td>\n",
       "    </tr>\n",
       "    <tr>\n",
       "      <th>4</th>\n",
       "      <td>5</td>\n",
       "      <td>L47184</td>\n",
       "      <td>0</td>\n",
       "      <td>-0.902227</td>\n",
       "      <td>-0.879689</td>\n",
       "      <td>-0.729478</td>\n",
       "      <td>0.001467</td>\n",
       "      <td>-1.554395</td>\n",
       "      <td>0</td>\n",
       "      <td>0</td>\n",
       "      <td>0</td>\n",
       "      <td>0</td>\n",
       "      <td>0</td>\n",
       "      <td>0</td>\n",
       "    </tr>\n",
       "  </tbody>\n",
       "</table>\n",
       "</div>"
      ],
      "text/plain": [
       "   UDI Product ID  Type  Air temperature [K]  Process temperature [K]  \\\n",
       "0    1     M14860     1            -0.952222                -0.947078   \n",
       "1    2     L47181     0            -0.902227                -0.879689   \n",
       "2    3     L47182     0            -0.952222                -1.014468   \n",
       "3    4     L47183     0            -0.902227                -0.947078   \n",
       "4    5     L47184     0            -0.902227                -0.879689   \n",
       "\n",
       "   Rotational speed [rpm]  Torque [Nm]  Tool wear [min]  Machine failure  TWF  \\\n",
       "0                0.068015     0.282351        -1.695786                0    0   \n",
       "1               -0.729478     0.633456        -1.648656                0    0   \n",
       "2               -0.227559     0.944434        -1.617236                0    0   \n",
       "3               -0.590056    -0.048691        -1.585816                0    0   \n",
       "4               -0.729478     0.001467        -1.554395                0    0   \n",
       "\n",
       "   HDF  PWF  OSF  RNF  \n",
       "0    0    0    0    0  \n",
       "1    0    0    0    0  \n",
       "2    0    0    0    0  \n",
       "3    0    0    0    0  \n",
       "4    0    0    0    0  "
      ]
     },
     "execution_count": 30,
     "metadata": {},
     "output_type": "execute_result"
    }
   ],
   "source": [
    "df.head()"
   ]
  },
  {
   "cell_type": "markdown",
   "id": "28b43d98",
   "metadata": {
    "id": "rDpgqtNcWkjw",
    "papermill": {
     "duration": 0.017274,
     "end_time": "2023-06-12T08:13:03.276765",
     "exception": false,
     "start_time": "2023-06-12T08:13:03.259491",
     "status": "completed"
    },
    "tags": []
   },
   "source": [
    "## **Imbalances**"
   ]
  },
  {
   "cell_type": "code",
   "execution_count": 32,
   "id": "fa27786c",
   "metadata": {
    "id": "s6w0ag6koZxM",
    "outputId": "96ecc46b-544e-4dc3-ba21-cca32e52cc13",
    "papermill": {
     "duration": 0.755099,
     "end_time": "2023-06-12T08:13:04.049468",
     "exception": false,
     "start_time": "2023-06-12T08:13:03.294369",
     "status": "completed"
    },
    "tags": []
   },
   "outputs": [
    {
     "data": {
      "image/png": "[encoded data removed]",
      "text/plain": [
       "<Figure size 1728x432 with 6 Axes>"
      ]
     },
     "metadata": {},
     "output_type": "display_data"
    }
   ],
   "source": [
    "import seaborn as sns\n",
    "import matplotlib.pyplot as plt\n",
    "\n",
    "plt.figure(figsize=(24, 6))\n",
    "\n",
    "for idx, feature in enumerate(label_binary + label_multi):\n",
    "    plt.subplot(1, 6, idx + 1)\n",
    "    f = sns.countplot(data=df, x=feature)\n",
    "    \n",
    "    # Adding labels to the bars\n",
    "    for p in f.patches:\n",
    "        height = p.get_height()\n",
    "        f.annotate(f'{height}', (p.get_x() + p.get_width() / 2., height),\n",
    "                   ha='center', va='bottom')\n",
    "    \n",
    "    plt.xticks(rotation=45)  # Set rotation for x-axis labels\n",
    "    plt.xlabel(feature)\n",
    "    plt.tight_layout()\n",
    "\n",
    "plt.show()\n"
   ]
  },
  {
   "cell_type": "code",
   "execution_count": 33,
   "id": "ed524b8b",
   "metadata": {
    "id": "PhRgXWX1OwkA",
    "outputId": "7027e036-50d1-4f03-a28b-7ce5e38ddeb4",
    "papermill": {
     "duration": 0.132296,
     "end_time": "2023-06-12T08:13:04.200513",
     "exception": false,
     "start_time": "2023-06-12T08:13:04.068217",
     "status": "completed"
    },
    "tags": []
   },
   "outputs": [
    {
     "data": {
      "image/png": "[encoded data removed]",
      "text/plain": [
       "<Figure size 432x288 with 1 Axes>"
      ]
     },
     "metadata": {},
     "output_type": "display_data"
    }
   ],
   "source": [
    "plt.pie(df[label_binary[0]].value_counts(), labels = df[label_binary[0]].value_counts().index,\n",
    "        autopct='%1.2f%%', textprops={'fontsize': 12})\n",
    "plt.title('Pie Chart of Machine Failure', fontsize = 14)\n",
    "plt.show()"
   ]
  },
  {
   "cell_type": "code",
   "execution_count": 34,
   "id": "59203bc0",
   "metadata": {
    "id": "BxhbqBYPO1Tv",
    "outputId": "fd0e5be0-4b6d-4145-eb42-c522674a67a5",
    "papermill": {
     "duration": 0.149079,
     "end_time": "2023-06-12T08:13:04.373881",
     "exception": false,
     "start_time": "2023-06-12T08:13:04.224802",
     "status": "completed"
    },
    "tags": []
   },
   "outputs": [
    {
     "data": {
      "image/png": "[encoded data removed]",
      "text/plain": [
       "<Figure size 432x288 with 1 Axes>"
      ]
     },
     "metadata": {},
     "output_type": "display_data"
    }
   ],
   "source": [
    "#With RNF\n",
    "plt.pie(df.loc[df[label_binary[0]] == 1][label_multi].sum(), labels = df.loc[df[label_binary[0]] == 1][label_multi].sum().index,\n",
    "        autopct='%1.2f%%', textprops={'fontsize': 12})\n",
    "plt.title('Pie Chart of Machine Failure Types', fontsize = 14)\n",
    "plt.show()"
   ]
  },
  {
   "cell_type": "code",
   "execution_count": 35,
   "id": "bc39470e",
   "metadata": {
    "id": "zROlzUxg3hFY",
    "outputId": "d5b9765b-d2f6-43ad-b84f-b01936f72fba",
    "papermill": {
     "duration": 0.138846,
     "end_time": "2023-06-12T08:13:04.538018",
     "exception": false,
     "start_time": "2023-06-12T08:13:04.399172",
     "status": "completed"
    },
    "tags": []
   },
   "outputs": [
    {
     "data": {
      "image/png": "[encoded data removed]",
      "text/plain": [
       "<Figure size 432x288 with 1 Axes>"
      ]
     },
     "metadata": {},
     "output_type": "display_data"
    }
   ],
   "source": [
    "#without RNF\n",
    "plt.pie(df.loc[df[label_binary[0]] == 1][label_multi[:4]].sum(), labels = df.loc[df[label_binary[0]] == 1][label_multi[:4]].sum().index,\n",
    "        autopct='%1.2f%%', textprops={'fontsize': 12})\n",
    "plt.title('Pie Chart of Machine Failure Types', fontsize = 14)\n",
    "plt.show()"
   ]
  },
  {
   "cell_type": "markdown",
   "id": "6f25a85e",
   "metadata": {
    "id": "D54_9MeAtRPO",
    "papermill": {
     "duration": 0.025838,
     "end_time": "2023-06-12T08:13:04.589362",
     "exception": false,
     "start_time": "2023-06-12T08:13:04.563524",
     "status": "completed"
    },
    "tags": []
   },
   "source": [
    "## **Binary Classification**"
   ]
  },
  {
   "cell_type": "code",
   "execution_count": 36,
   "id": "c66fc638",
   "metadata": {
    "id": "gGTUxQ-Wtwky",
    "papermill": {
     "duration": 0.028145,
     "end_time": "2023-06-12T08:13:04.645583",
     "exception": false,
     "start_time": "2023-06-12T08:13:04.617438",
     "status": "completed"
    },
    "tags": []
   },
   "outputs": [],
   "source": [
    "df_clean = df[df.RNF != 1]"
   ]
  },
  {
   "cell_type": "code",
   "execution_count": 37,
   "id": "49d6b408",
   "metadata": {
    "id": "knhFA0iEtRPT",
    "papermill": {
     "duration": 0.031542,
     "end_time": "2023-06-12T08:13:04.696622",
     "exception": false,
     "start_time": "2023-06-12T08:13:04.665080",
     "status": "completed"
    },
    "tags": []
   },
   "outputs": [],
   "source": [
    "X_binary = df_clean[num+cat]\n",
    "y_binary = df_clean[label_binary]"
   ]
  },
  {
   "cell_type": "code",
   "execution_count": 38,
   "id": "afd46907",
   "metadata": {
    "id": "tJpFu3w0yOUL",
    "outputId": "81ac488e-6a93-40c1-b415-a9b0c97a00ac",
    "papermill": {
     "duration": 0.032251,
     "end_time": "2023-06-12T08:13:04.749887",
     "exception": false,
     "start_time": "2023-06-12T08:13:04.717636",
     "status": "completed"
    },
    "tags": []
   },
   "outputs": [
    {
     "data": {
      "text/plain": [
       "Machine failure\n",
       "0                  9643\n",
       "1                   329\n",
       "dtype: int64"
      ]
     },
     "execution_count": 38,
     "metadata": {},
     "output_type": "execute_result"
    }
   ],
   "source": [
    "y_binary.value_counts()"
   ]
  },
  {
   "cell_type": "code",
   "execution_count": 43,
   "id": "3fc21c8e",
   "metadata": {
    "id": "Jmlob7vctRPV",
    "papermill": {
     "duration": 0.728174,
     "end_time": "2023-06-12T08:13:05.497299",
     "exception": false,
     "start_time": "2023-06-12T08:13:04.769125",
     "status": "completed"
    },
    "tags": []
   },
   "outputs": [
    {
     "name": "stdout",
     "output_type": "stream",
     "text": [
      "Collecting imblearn\n",
      "  Downloading imblearn-0.0-py2.py3-none-any.whl (1.9 kB)\n",
      "Collecting imbalanced-learn\n",
      "  Downloading imbalanced_learn-0.11.0-py3-none-any.whl (235 kB)\n",
      "Collecting joblib>=1.1.1\n",
      "  Downloading joblib-1.3.1-py3-none-any.whl (301 kB)\n",
      "Requirement already satisfied: scipy>=1.5.0 in c:\\users\\kayal\\anaconda3\\lib\\site-packages (from imbalanced-learn->imblearn) (1.6.2)\n",
      "Requirement already satisfied: threadpoolctl>=2.0.0 in c:\\users\\kayal\\anaconda3\\lib\\site-packages (from imbalanced-learn->imblearn) (2.1.0)\n",
      "Collecting scikit-learn>=1.0.2\n",
      "  Downloading scikit_learn-1.3.0-cp38-cp38-win_amd64.whl (9.2 MB)\n",
      "Requirement already satisfied: numpy>=1.17.3 in c:\\users\\kayal\\anaconda3\\lib\\site-packages (from imbalanced-learn->imblearn) (1.20.1)\n",
      "Installing collected packages: joblib, scikit-learn, imbalanced-learn, imblearn\n",
      "  Attempting uninstall: joblib\n",
      "    Found existing installation: joblib 1.0.1\n",
      "    Uninstalling joblib-1.0.1:\n",
      "      Successfully uninstalled joblib-1.0.1\n",
      "  Attempting uninstall: scikit-learn\n",
      "    Found existing installation: scikit-learn 0.24.1\n",
      "    Uninstalling scikit-learn-0.24.1:\n",
      "      Successfully uninstalled scikit-learn-0.24.1\n",
      "Successfully installed imbalanced-learn-0.11.0 imblearn-0.0 joblib-1.3.1 scikit-learn-1.3.0\n",
      "Note: you may need to restart the kernel to use updated packages.\n"
     ]
    }
   ],
   "source": [
    "pip install imblearn\n"
   ]
  },
  {
   "cell_type": "code",
   "execution_count": 45,
   "id": "05634d17-defb-4a39-a807-a0e787dbcd94",
   "metadata": {},
   "outputs": [
    {
     "ename": "ImportError",
     "evalue": "cannot import name '_OneToOneFeatureMixin' from 'sklearn.base' (C:\\Users\\kayal\\anaconda3\\lib\\site-packages\\sklearn\\base.py)",
     "output_type": "error",
     "traceback": [
      "\u001b[1;31m---------------------------------------------------------------------------\u001b[0m",
      "\u001b[1;31mImportError\u001b[0m                               Traceback (most recent call last)",
      "\u001b[1;32m~\\anaconda3\\lib\\site-packages\\imblearn\\base.py\u001b[0m in \u001b[0;36m<module>\u001b[1;34m\u001b[0m\n\u001b[0;32m     14\u001b[0m     \u001b[1;31m# scikit-learn >= 1.2\u001b[0m\u001b[1;33m\u001b[0m\u001b[1;33m\u001b[0m\u001b[1;33m\u001b[0m\u001b[0m\n\u001b[1;32m---> 15\u001b[1;33m     \u001b[1;32mfrom\u001b[0m \u001b[0msklearn\u001b[0m\u001b[1;33m.\u001b[0m\u001b[0mbase\u001b[0m \u001b[1;32mimport\u001b[0m \u001b[0mOneToOneFeatureMixin\u001b[0m\u001b[1;33m\u001b[0m\u001b[1;33m\u001b[0m\u001b[0m\n\u001b[0m\u001b[0;32m     16\u001b[0m \u001b[1;32mexcept\u001b[0m \u001b[0mImportError\u001b[0m\u001b[1;33m:\u001b[0m\u001b[1;33m\u001b[0m\u001b[1;33m\u001b[0m\u001b[0m\n",
      "\u001b[1;31mImportError\u001b[0m: cannot import name 'OneToOneFeatureMixin' from 'sklearn.base' (C:\\Users\\kayal\\anaconda3\\lib\\site-packages\\sklearn\\base.py)",
      "\nDuring handling of the above exception, another exception occurred:\n",
      "\u001b[1;31mImportError\u001b[0m                               Traceback (most recent call last)",
      "\u001b[1;32m<ipython-input-45-14ff3dc70813>\u001b[0m in \u001b[0;36m<module>\u001b[1;34m\u001b[0m\n\u001b[1;32m----> 1\u001b[1;33m \u001b[1;32mfrom\u001b[0m \u001b[0mimblearn\u001b[0m\u001b[1;33m.\u001b[0m\u001b[0mover_sampling\u001b[0m \u001b[1;32mimport\u001b[0m \u001b[0mSMOTE\u001b[0m\u001b[1;33m,\u001b[0m \u001b[0mSVMSMOTE\u001b[0m\u001b[1;33m,\u001b[0m \u001b[0mRandomOverSampler\u001b[0m\u001b[1;33m\u001b[0m\u001b[1;33m\u001b[0m\u001b[0m\n\u001b[0m\u001b[0;32m      2\u001b[0m \u001b[0moversamp\u001b[0m \u001b[1;33m=\u001b[0m \u001b[0mRandomOverSampler\u001b[0m\u001b[1;33m(\u001b[0m\u001b[0mrandom_state\u001b[0m\u001b[1;33m=\u001b[0m\u001b[1;36m0\u001b[0m\u001b[1;33m)\u001b[0m\u001b[1;33m\u001b[0m\u001b[1;33m\u001b[0m\u001b[0m\n",
      "\u001b[1;32m~\\anaconda3\\lib\\site-packages\\imblearn\\__init__.py\u001b[0m in \u001b[0;36m<module>\u001b[1;34m\u001b[0m\n\u001b[0;32m     50\u001b[0m     \u001b[1;31m# process, as it may not be compiled yet\u001b[0m\u001b[1;33m\u001b[0m\u001b[1;33m\u001b[0m\u001b[1;33m\u001b[0m\u001b[0m\n\u001b[0;32m     51\u001b[0m \u001b[1;32melse\u001b[0m\u001b[1;33m:\u001b[0m\u001b[1;33m\u001b[0m\u001b[1;33m\u001b[0m\u001b[0m\n\u001b[1;32m---> 52\u001b[1;33m     from . import (\n\u001b[0m\u001b[0;32m     53\u001b[0m         \u001b[0mcombine\u001b[0m\u001b[1;33m,\u001b[0m\u001b[1;33m\u001b[0m\u001b[1;33m\u001b[0m\u001b[0m\n\u001b[0;32m     54\u001b[0m         \u001b[0mensemble\u001b[0m\u001b[1;33m,\u001b[0m\u001b[1;33m\u001b[0m\u001b[1;33m\u001b[0m\u001b[0m\n",
      "\u001b[1;32m~\\anaconda3\\lib\\site-packages\\imblearn\\combine\\__init__.py\u001b[0m in \u001b[0;36m<module>\u001b[1;34m\u001b[0m\n\u001b[0;32m      3\u001b[0m \"\"\"\n\u001b[0;32m      4\u001b[0m \u001b[1;33m\u001b[0m\u001b[0m\n\u001b[1;32m----> 5\u001b[1;33m \u001b[1;32mfrom\u001b[0m \u001b[1;33m.\u001b[0m\u001b[0m_smote_enn\u001b[0m \u001b[1;32mimport\u001b[0m \u001b[0mSMOTEENN\u001b[0m\u001b[1;33m\u001b[0m\u001b[1;33m\u001b[0m\u001b[0m\n\u001b[0m\u001b[0;32m      6\u001b[0m \u001b[1;32mfrom\u001b[0m \u001b[1;33m.\u001b[0m\u001b[0m_smote_tomek\u001b[0m \u001b[1;32mimport\u001b[0m \u001b[0mSMOTETomek\u001b[0m\u001b[1;33m\u001b[0m\u001b[1;33m\u001b[0m\u001b[0m\n\u001b[0;32m      7\u001b[0m \u001b[1;33m\u001b[0m\u001b[0m\n",
      "\u001b[1;32m~\\anaconda3\\lib\\site-packages\\imblearn\\combine\\_smote_enn.py\u001b[0m in \u001b[0;36m<module>\u001b[1;34m\u001b[0m\n\u001b[0;32m     10\u001b[0m \u001b[1;32mfrom\u001b[0m \u001b[0msklearn\u001b[0m\u001b[1;33m.\u001b[0m\u001b[0mutils\u001b[0m \u001b[1;32mimport\u001b[0m \u001b[0mcheck_X_y\u001b[0m\u001b[1;33m\u001b[0m\u001b[1;33m\u001b[0m\u001b[0m\n\u001b[0;32m     11\u001b[0m \u001b[1;33m\u001b[0m\u001b[0m\n\u001b[1;32m---> 12\u001b[1;33m \u001b[1;32mfrom\u001b[0m \u001b[1;33m.\u001b[0m\u001b[1;33m.\u001b[0m\u001b[0mbase\u001b[0m \u001b[1;32mimport\u001b[0m \u001b[0mBaseSampler\u001b[0m\u001b[1;33m\u001b[0m\u001b[1;33m\u001b[0m\u001b[0m\n\u001b[0m\u001b[0;32m     13\u001b[0m \u001b[1;32mfrom\u001b[0m \u001b[1;33m.\u001b[0m\u001b[1;33m.\u001b[0m\u001b[0mover_sampling\u001b[0m \u001b[1;32mimport\u001b[0m \u001b[0mSMOTE\u001b[0m\u001b[1;33m\u001b[0m\u001b[1;33m\u001b[0m\u001b[0m\n\u001b[0;32m     14\u001b[0m \u001b[1;32mfrom\u001b[0m \u001b[1;33m.\u001b[0m\u001b[1;33m.\u001b[0m\u001b[0mover_sampling\u001b[0m\u001b[1;33m.\u001b[0m\u001b[0mbase\u001b[0m \u001b[1;32mimport\u001b[0m \u001b[0mBaseOverSampler\u001b[0m\u001b[1;33m\u001b[0m\u001b[1;33m\u001b[0m\u001b[0m\n",
      "\u001b[1;32m~\\anaconda3\\lib\\site-packages\\imblearn\\base.py\u001b[0m in \u001b[0;36m<module>\u001b[1;34m\u001b[0m\n\u001b[0;32m     15\u001b[0m     \u001b[1;32mfrom\u001b[0m \u001b[0msklearn\u001b[0m\u001b[1;33m.\u001b[0m\u001b[0mbase\u001b[0m \u001b[1;32mimport\u001b[0m \u001b[0mOneToOneFeatureMixin\u001b[0m\u001b[1;33m\u001b[0m\u001b[1;33m\u001b[0m\u001b[0m\n\u001b[0;32m     16\u001b[0m \u001b[1;32mexcept\u001b[0m \u001b[0mImportError\u001b[0m\u001b[1;33m:\u001b[0m\u001b[1;33m\u001b[0m\u001b[1;33m\u001b[0m\u001b[0m\n\u001b[1;32m---> 17\u001b[1;33m     \u001b[1;32mfrom\u001b[0m \u001b[0msklearn\u001b[0m\u001b[1;33m.\u001b[0m\u001b[0mbase\u001b[0m \u001b[1;32mimport\u001b[0m \u001b[0m_OneToOneFeatureMixin\u001b[0m \u001b[1;32mas\u001b[0m \u001b[0mOneToOneFeatureMixin\u001b[0m\u001b[1;33m\u001b[0m\u001b[1;33m\u001b[0m\u001b[0m\n\u001b[0m\u001b[0;32m     18\u001b[0m \u001b[1;33m\u001b[0m\u001b[0m\n\u001b[0;32m     19\u001b[0m \u001b[1;32mfrom\u001b[0m \u001b[0msklearn\u001b[0m\u001b[1;33m.\u001b[0m\u001b[0mpreprocessing\u001b[0m \u001b[1;32mimport\u001b[0m \u001b[0mlabel_binarize\u001b[0m\u001b[1;33m\u001b[0m\u001b[1;33m\u001b[0m\u001b[0m\n",
      "\u001b[1;31mImportError\u001b[0m: cannot import name '_OneToOneFeatureMixin' from 'sklearn.base' (C:\\Users\\kayal\\anaconda3\\lib\\site-packages\\sklearn\\base.py)"
     ]
    }
   ],
   "source": [
    "from imblearn.over_sampling import SMOTE, SVMSMOTE, RandomOverSampler\n",
    "oversamp = RandomOverSampler(random_state=0)"
   ]
  },
  {
   "cell_type": "code",
   "execution_count": 40,
   "id": "a7ffd10b",
   "metadata": {
    "id": "gm0wok9rtRPW",
    "papermill": {
     "duration": 0.02812,
     "end_time": "2023-06-12T08:13:05.545182",
     "exception": false,
     "start_time": "2023-06-12T08:13:05.517062",
     "status": "completed"
    },
    "tags": []
   },
   "outputs": [
    {
     "ename": "NameError",
     "evalue": "name 'SMOTE' is not defined",
     "output_type": "error",
     "traceback": [
      "\u001b[1;31m---------------------------------------------------------------------------\u001b[0m",
      "\u001b[1;31mNameError\u001b[0m                                 Traceback (most recent call last)",
      "\u001b[1;32m<ipython-input-40-a877146dfc18>\u001b[0m in \u001b[0;36m<module>\u001b[1;34m\u001b[0m\n\u001b[1;32m----> 1\u001b[1;33m \u001b[0mover\u001b[0m \u001b[1;33m=\u001b[0m \u001b[0mSMOTE\u001b[0m\u001b[1;33m(\u001b[0m\u001b[0mrandom_state\u001b[0m\u001b[1;33m=\u001b[0m\u001b[1;36m15\u001b[0m\u001b[1;33m)\u001b[0m\u001b[1;33m\u001b[0m\u001b[1;33m\u001b[0m\u001b[0m\n\u001b[0m",
      "\u001b[1;31mNameError\u001b[0m: name 'SMOTE' is not defined"
     ]
    }
   ],
   "source": [
    "over = SMOTE(random_state=15)"
   ]
  },
  {
   "cell_type": "code",
   "execution_count": 36,
   "id": "fb782450",
   "metadata": {
    "execution": {
     "iopub.execute_input": "2023-06-12T08:13:05.586288Z",
     "iopub.status.busy": "2023-06-12T08:13:05.585893Z",
     "iopub.status.idle": "2023-06-12T08:13:05.608396Z",
     "shell.execute_reply": "2023-06-12T08:13:05.607293Z"
    },
    "id": "S_LHdq-1yevB",
    "papermill": {
     "duration": 0.045785,
     "end_time": "2023-06-12T08:13:05.611011",
     "exception": false,
     "start_time": "2023-06-12T08:13:05.565226",
     "status": "completed"
    },
    "tags": []
   },
   "outputs": [],
   "source": [
    "X_binary_over, y_binary_over = over.fit_resample(X_binary, y_binary)"
   ]
  },
  {
   "cell_type": "code",
   "execution_count": 37,
   "id": "14b89a94",
   "metadata": {
    "execution": {
     "iopub.execute_input": "2023-06-12T08:13:05.652472Z",
     "iopub.status.busy": "2023-06-12T08:13:05.652124Z",
     "iopub.status.idle": "2023-06-12T08:13:05.794218Z",
     "shell.execute_reply": "2023-06-12T08:13:05.793497Z"
    },
    "id": "aP5rdbPRtRPY",
    "outputId": "5c4f41f0-6c29-43fb-add5-9a622bbfd773",
    "papermill": {
     "duration": 0.165514,
     "end_time": "2023-06-12T08:13:05.796199",
     "exception": false,
     "start_time": "2023-06-12T08:13:05.630685",
     "status": "completed"
    },
    "tags": []
   },
   "outputs": [
    {
     "data": {
      "image/png": "[encoded data removed]",
      "text/plain": [
       "<Figure size 640x480 with 1 Axes>"
      ]
     },
     "metadata": {},
     "output_type": "display_data"
    }
   ],
   "source": [
    "f = sns.countplot(data = y_binary_over, x = label_binary[0])\n",
    "f.bar_label(f.containers[0])\n",
    "plt.show()"
   ]
  },
  {
   "cell_type": "code",
   "execution_count": 47,
   "id": "68744d61-5b81-4a07-939a-a846c5ef51ac",
   "metadata": {},
   "outputs": [
    {
     "name": "stdout",
     "output_type": "stream",
     "text": [
      "Requirement already satisfied: scikit-learn in c:\\users\\kayal\\anaconda3\\lib\\site-packages (1.3.0)\n",
      "Requirement already satisfied: joblib>=1.1.1 in c:\\users\\kayal\\anaconda3\\lib\\site-packages (from scikit-learn) (1.3.1)\n",
      "Requirement already satisfied: numpy>=1.17.3 in c:\\users\\kayal\\anaconda3\\lib\\site-packages (from scikit-learn) (1.20.1)\n",
      "Requirement already satisfied: scipy>=1.5.0 in c:\\users\\kayal\\anaconda3\\lib\\site-packages (from scikit-learn) (1.6.2)\n",
      "Requirement already satisfied: threadpoolctl>=2.0.0 in c:\\users\\kayal\\anaconda3\\lib\\site-packages (from scikit-learn) (2.1.0)\n",
      "Note: you may need to restart the kernel to use updated packages.\n"
     ]
    }
   ],
   "source": [
    "pip install --upgrade scikit-learn"
   ]
  },
  {
   "cell_type": "code",
   "execution_count": 48,
   "id": "f86cbb4d",
   "metadata": {
    "id": "2_18TeLltRPZ",
    "papermill": {
     "duration": 0.046773,
     "end_time": "2023-06-12T08:13:05.867869",
     "exception": false,
     "start_time": "2023-06-12T08:13:05.821096",
     "status": "completed"
    },
    "tags": []
   },
   "outputs": [
    {
     "ename": "ImportError",
     "evalue": "cannot import name '_fit_context' from 'sklearn.base' (C:\\Users\\kayal\\anaconda3\\lib\\site-packages\\sklearn\\base.py)",
     "output_type": "error",
     "traceback": [
      "\u001b[1;31m---------------------------------------------------------------------------\u001b[0m",
      "\u001b[1;31mImportError\u001b[0m                               Traceback (most recent call last)",
      "\u001b[1;32m<ipython-input-48-27851e4fb316>\u001b[0m in \u001b[0;36m<module>\u001b[1;34m\u001b[0m\n\u001b[0;32m      1\u001b[0m \u001b[1;32mimport\u001b[0m \u001b[0mwarnings\u001b[0m\u001b[1;33m\u001b[0m\u001b[1;33m\u001b[0m\u001b[0m\n\u001b[0;32m      2\u001b[0m \u001b[0mwarnings\u001b[0m\u001b[1;33m.\u001b[0m\u001b[0mfilterwarnings\u001b[0m\u001b[1;33m(\u001b[0m\u001b[1;34m'ignore'\u001b[0m\u001b[1;33m)\u001b[0m\u001b[1;33m\u001b[0m\u001b[1;33m\u001b[0m\u001b[0m\n\u001b[1;32m----> 3\u001b[1;33m \u001b[1;32mfrom\u001b[0m \u001b[0msklearn\u001b[0m\u001b[1;33m.\u001b[0m\u001b[0mtree\u001b[0m \u001b[1;32mimport\u001b[0m \u001b[0mDecisionTreeClassifier\u001b[0m\u001b[1;33m\u001b[0m\u001b[1;33m\u001b[0m\u001b[0m\n\u001b[0m\u001b[0;32m      4\u001b[0m \u001b[1;32mfrom\u001b[0m \u001b[0msklearn\u001b[0m\u001b[1;33m.\u001b[0m\u001b[0mlinear_model\u001b[0m \u001b[1;32mimport\u001b[0m \u001b[0mLogisticRegression\u001b[0m\u001b[1;33m\u001b[0m\u001b[1;33m\u001b[0m\u001b[0m\n\u001b[0;32m      5\u001b[0m \u001b[1;32mfrom\u001b[0m \u001b[0msklearn\u001b[0m\u001b[1;33m.\u001b[0m\u001b[0mensemble\u001b[0m \u001b[1;32mimport\u001b[0m \u001b[0mRandomForestClassifier\u001b[0m\u001b[1;33m\u001b[0m\u001b[1;33m\u001b[0m\u001b[0m\n",
      "\u001b[1;32m~\\anaconda3\\lib\\site-packages\\sklearn\\tree\\__init__.py\u001b[0m in \u001b[0;36m<module>\u001b[1;34m\u001b[0m\n\u001b[0;32m      4\u001b[0m \"\"\"\n\u001b[0;32m      5\u001b[0m \u001b[1;33m\u001b[0m\u001b[0m\n\u001b[1;32m----> 6\u001b[1;33m from ._classes import (\n\u001b[0m\u001b[0;32m      7\u001b[0m     \u001b[0mBaseDecisionTree\u001b[0m\u001b[1;33m,\u001b[0m\u001b[1;33m\u001b[0m\u001b[1;33m\u001b[0m\u001b[0m\n\u001b[0;32m      8\u001b[0m     \u001b[0mDecisionTreeClassifier\u001b[0m\u001b[1;33m,\u001b[0m\u001b[1;33m\u001b[0m\u001b[1;33m\u001b[0m\u001b[0m\n",
      "\u001b[1;32m~\\anaconda3\\lib\\site-packages\\sklearn\\tree\\_classes.py\u001b[0m in \u001b[0;36m<module>\u001b[1;34m\u001b[0m\n\u001b[0;32m     25\u001b[0m \u001b[1;32mfrom\u001b[0m \u001b[0mscipy\u001b[0m\u001b[1;33m.\u001b[0m\u001b[0msparse\u001b[0m \u001b[1;32mimport\u001b[0m \u001b[0missparse\u001b[0m\u001b[1;33m\u001b[0m\u001b[1;33m\u001b[0m\u001b[0m\n\u001b[0;32m     26\u001b[0m \u001b[1;33m\u001b[0m\u001b[0m\n\u001b[1;32m---> 27\u001b[1;33m from ..base import (\n\u001b[0m\u001b[0;32m     28\u001b[0m     \u001b[0mBaseEstimator\u001b[0m\u001b[1;33m,\u001b[0m\u001b[1;33m\u001b[0m\u001b[1;33m\u001b[0m\u001b[0m\n\u001b[0;32m     29\u001b[0m     \u001b[0mClassifierMixin\u001b[0m\u001b[1;33m,\u001b[0m\u001b[1;33m\u001b[0m\u001b[1;33m\u001b[0m\u001b[0m\n",
      "\u001b[1;31mImportError\u001b[0m: cannot import name '_fit_context' from 'sklearn.base' (C:\\Users\\kayal\\anaconda3\\lib\\site-packages\\sklearn\\base.py)"
     ]
    }
   ],
   "source": [
    "import warnings\n",
    "warnings.filterwarnings('ignore')\n",
    "from sklearn.tree import DecisionTreeClassifier\n",
    "from sklearn.linear_model import LogisticRegression\n",
    "from sklearn.ensemble import RandomForestClassifier \n",
    "from sklearn.ensemble import GradientBoostingClassifier\n",
    "from sklearn.svm import SVC\n",
    "from sklearn.neural_network import MLPClassifier\n",
    "\n",
    "from sklearn.metrics import accuracy_score\n",
    "from sklearn.model_selection import GridSearchCV\n",
    "from sklearn.metrics import f1_score, precision_score, recall_score, accuracy_score,roc_auc_score\n",
    "from sklearn.metrics import accuracy_score, classification_report, confusion_matrix\n",
    "from sklearn.metrics import roc_curve, auc"
   ]
  },
  {
   "cell_type": "code",
   "execution_count": 39,
   "id": "bbc0a85b",
   "metadata": {
    "execution": {
     "iopub.execute_input": "2023-06-12T08:13:05.910440Z",
     "iopub.status.busy": "2023-06-12T08:13:05.910048Z",
     "iopub.status.idle": "2023-06-12T08:13:05.919092Z",
     "shell.execute_reply": "2023-06-12T08:13:05.917584Z"
    },
    "id": "4XBkB4QgyoxL",
    "papermill": {
     "duration": 0.033146,
     "end_time": "2023-06-12T08:13:05.921675",
     "exception": false,
     "start_time": "2023-06-12T08:13:05.888529",
     "status": "completed"
    },
    "tags": []
   },
   "outputs": [],
   "source": [
    "#Dividing the dataset into training data and test data\n",
    "from sklearn.model_selection import train_test_split\n",
    "X_train, X_test, y_train, y_test = train_test_split(X_binary_over, y_binary_over, test_size=0.2, random_state=100)"
   ]
  },
  {
   "cell_type": "code",
   "execution_count": 40,
   "id": "547ebe38",
   "metadata": {
    "execution": {
     "iopub.execute_input": "2023-06-12T08:13:05.962766Z",
     "iopub.status.busy": "2023-06-12T08:13:05.962412Z",
     "iopub.status.idle": "2023-06-12T08:34:15.477738Z",
     "shell.execute_reply": "2023-06-12T08:34:15.476345Z"
    },
    "id": "BFWtYtFHpPWK",
    "outputId": "5a41ac70-1329-4b43-8565-9b4cf6251286",
    "papermill": {
     "duration": 1269.558013,
     "end_time": "2023-06-12T08:34:15.499486",
     "exception": false,
     "start_time": "2023-06-12T08:13:05.941473",
     "status": "completed"
    },
    "tags": []
   },
   "outputs": [
    {
     "data": {
      "text/html": [
       "<div>\n",
       "<style scoped>\n",
       "    .dataframe tbody tr th:only-of-type {\n",
       "        vertical-align: middle;\n",
       "    }\n",
       "\n",
       "    .dataframe tbody tr th {\n",
       "        vertical-align: top;\n",
       "    }\n",
       "\n",
       "    .dataframe thead th {\n",
       "        text-align: right;\n",
       "    }\n",
       "</style>\n",
       "<table border=\"1\" class=\"dataframe\">\n",
       "  <thead>\n",
       "    <tr style=\"text-align: right;\">\n",
       "      <th></th>\n",
       "      <th>Model</th>\n",
       "      <th>Score</th>\n",
       "    </tr>\n",
       "  </thead>\n",
       "  <tbody>\n",
       "    <tr>\n",
       "      <th>0</th>\n",
       "      <td>Gradient Boosting</td>\n",
       "      <td>0.988398</td>\n",
       "    </tr>\n",
       "    <tr>\n",
       "      <th>1</th>\n",
       "      <td>Random Forest</td>\n",
       "      <td>0.982240</td>\n",
       "    </tr>\n",
       "    <tr>\n",
       "      <th>2</th>\n",
       "      <td>Neural Network MLP</td>\n",
       "      <td>0.980879</td>\n",
       "    </tr>\n",
       "    <tr>\n",
       "      <th>3</th>\n",
       "      <td>Decision Tree</td>\n",
       "      <td>0.977249</td>\n",
       "    </tr>\n",
       "    <tr>\n",
       "      <th>4</th>\n",
       "      <td>SVM</td>\n",
       "      <td>0.968564</td>\n",
       "    </tr>\n",
       "    <tr>\n",
       "      <th>5</th>\n",
       "      <td>Logistic Regression</td>\n",
       "      <td>0.836595</td>\n",
       "    </tr>\n",
       "  </tbody>\n",
       "</table>\n",
       "</div>"
      ],
      "text/plain": [
       "                 Model     Score\n",
       "0    Gradient Boosting  0.988398\n",
       "1        Random Forest  0.982240\n",
       "2   Neural Network MLP  0.980879\n",
       "3        Decision Tree  0.977249\n",
       "4                  SVM  0.968564\n",
       "5  Logistic Regression  0.836595"
      ]
     },
     "execution_count": 40,
     "metadata": {},
     "output_type": "execute_result"
    }
   ],
   "source": [
    "# define models\n",
    "models = {\n",
    "    'Logistic Regression': LogisticRegression(),\n",
    "    'Decision Tree': DecisionTreeClassifier(),\n",
    "    'Random Forest': RandomForestClassifier(),\n",
    "    'Gradient Boosting': GradientBoostingClassifier(),\n",
    "    'Neural Network MLP': MLPClassifier(),\n",
    "    'SVM': SVC(probability=True)\n",
    "}\n",
    "\n",
    "# define parameters\n",
    "params = {\n",
    "    'Logistic Regression': {'C': [0.1, 1, 10], 'penalty': ['l1', 'l2'], 'solver': ['newton-cg', 'lbfgs', 'sag'], 'class_weight': ['balanced', None]},\n",
    "    'Decision Tree': {'criterion': ['gini', 'entropy'], 'max_depth': [5, 10, 15], 'min_samples_split': [5, 10, 15]},\n",
    "    'Random Forest': {'n_estimators': [10, 20, 30], 'max_depth': [5, 10, 15], 'min_samples_split': [5, 10, 15]},\n",
    "    'Gradient Boosting': {'learning_rate': [0.1, 1, 10], 'n_estimators': [10, 20, 30], 'max_depth': [5, 10, 15], 'min_samples_split': [5, 10, 15]},\n",
    "    'Neural Network MLP': {'solver': ['adam', 'lbfgs'], 'alpha': [0.0001, 0.001]},\n",
    "    'SVM': {'C': [0.1, 1, 10], 'kernel': ['linear', 'rbf'], 'class_weight': ['balanced', None]}\n",
    "}\n",
    "\n",
    "best_models = {}\n",
    "result = pd.DataFrame(columns = ['Model', 'Score'])\n",
    "\n",
    "for name, model in models.items():\n",
    "  search = GridSearchCV(model, params[name], cv = 5)\n",
    "  search.fit(X_train, y_train)\n",
    "  best_models.update({name: search.best_estimator_})\n",
    "  result = result.append({'Model': name, 'Score': search.best_score_},\n",
    "                           ignore_index = True)\n",
    "\n",
    "result.sort_values('Score', ascending = False, inplace = True)\n",
    "result.reset_index(drop = True, inplace = True)\n",
    "result"
   ]
  },
  {
   "cell_type": "code",
   "execution_count": null,
   "id": "01df83f6",
   "metadata": {
    "id": "RKaUCj_-u8M8",
    "outputId": "2aa3e0e6-36fc-4f8c-a4d5-a71196099650",
    "papermill": {
     "duration": 0.036846,
     "end_time": "2023-06-12T08:34:15.556086",
     "exception": false,
     "start_time": "2023-06-12T08:34:15.519240",
     "status": "completed"
    },
    "tags": []
   },
   "outputs": [],
   "source": [
    "best_models[result['Model'][0]]"
   ]
  },
  {
   "cell_type": "code",
   "execution_count": 42,
   "id": "5ec649e8",
   "metadata": {
    "execution": {
     "iopub.execute_input": "2023-06-12T08:34:15.600263Z",
     "iopub.status.busy": "2023-06-12T08:34:15.599873Z",
     "iopub.status.idle": "2023-06-12T08:34:15.609028Z",
     "shell.execute_reply": "2023-06-12T08:34:15.607596Z"
    },
    "id": "cMVPqTrOy43Z",
    "papermill": {
     "duration": 0.034051,
     "end_time": "2023-06-12T08:34:15.611439",
     "exception": false,
     "start_time": "2023-06-12T08:34:15.577388",
     "status": "completed"
    },
    "tags": []
   },
   "outputs": [],
   "source": [
    "index = pd.merge(X_binary, X_test, left_index=True, right_index=True).index"
   ]
  },
  {
   "cell_type": "code",
   "execution_count": 43,
   "id": "cb0218e5",
   "metadata": {
    "execution": {
     "iopub.execute_input": "2023-06-12T08:34:15.655593Z",
     "iopub.status.busy": "2023-06-12T08:34:15.655234Z",
     "iopub.status.idle": "2023-06-12T08:34:15.671627Z",
     "shell.execute_reply": "2023-06-12T08:34:15.670500Z"
    },
    "id": "SN5sTi5sy7Ei",
    "outputId": "7eee90ba-212c-4bb6-be31-3b5e16eb1844",
    "papermill": {
     "duration": 0.040297,
     "end_time": "2023-06-12T08:34:15.673321",
     "exception": false,
     "start_time": "2023-06-12T08:34:15.633024",
     "status": "completed"
    },
    "tags": []
   },
   "outputs": [
    {
     "data": {
      "text/html": [
       "<div>\n",
       "<style scoped>\n",
       "    .dataframe tbody tr th:only-of-type {\n",
       "        vertical-align: middle;\n",
       "    }\n",
       "\n",
       "    .dataframe tbody tr th {\n",
       "        vertical-align: top;\n",
       "    }\n",
       "\n",
       "    .dataframe thead th {\n",
       "        text-align: right;\n",
       "    }\n",
       "</style>\n",
       "<table border=\"1\" class=\"dataframe\">\n",
       "  <thead>\n",
       "    <tr style=\"text-align: right;\">\n",
       "      <th></th>\n",
       "      <th>Air temperature [K]</th>\n",
       "      <th>Process temperature [K]</th>\n",
       "      <th>Rotational speed [rpm]</th>\n",
       "      <th>Torque [Nm]</th>\n",
       "      <th>Tool wear [min]</th>\n",
       "      <th>Type</th>\n",
       "    </tr>\n",
       "  </thead>\n",
       "  <tbody>\n",
       "    <tr>\n",
       "      <th>1</th>\n",
       "      <td>-0.902227</td>\n",
       "      <td>-0.879689</td>\n",
       "      <td>-0.729478</td>\n",
       "      <td>0.633456</td>\n",
       "      <td>-1.648656</td>\n",
       "      <td>0</td>\n",
       "    </tr>\n",
       "    <tr>\n",
       "      <th>2</th>\n",
       "      <td>-0.952222</td>\n",
       "      <td>-1.014468</td>\n",
       "      <td>-0.227559</td>\n",
       "      <td>0.944434</td>\n",
       "      <td>-1.617236</td>\n",
       "      <td>0</td>\n",
       "    </tr>\n",
       "    <tr>\n",
       "      <th>3</th>\n",
       "      <td>-0.902227</td>\n",
       "      <td>-0.947078</td>\n",
       "      <td>-0.590056</td>\n",
       "      <td>-0.048691</td>\n",
       "      <td>-1.585816</td>\n",
       "      <td>0</td>\n",
       "    </tr>\n",
       "    <tr>\n",
       "      <th>8</th>\n",
       "      <td>-0.852232</td>\n",
       "      <td>-0.879689</td>\n",
       "      <td>0.714932</td>\n",
       "      <td>-1.142132</td>\n",
       "      <td>-1.413005</td>\n",
       "      <td>1</td>\n",
       "    </tr>\n",
       "    <tr>\n",
       "      <th>21</th>\n",
       "      <td>-0.602257</td>\n",
       "      <td>-0.475354</td>\n",
       "      <td>-0.495249</td>\n",
       "      <td>0.482982</td>\n",
       "      <td>-0.706052</td>\n",
       "      <td>0</td>\n",
       "    </tr>\n",
       "    <tr>\n",
       "      <th>...</th>\n",
       "      <td>...</td>\n",
       "      <td>...</td>\n",
       "      <td>...</td>\n",
       "      <td>...</td>\n",
       "      <td>...</td>\n",
       "      <td>...</td>\n",
       "    </tr>\n",
       "    <tr>\n",
       "      <th>9958</th>\n",
       "      <td>-0.852232</td>\n",
       "      <td>-1.418803</td>\n",
       "      <td>0.391473</td>\n",
       "      <td>-0.760932</td>\n",
       "      <td>0.676434</td>\n",
       "      <td>1</td>\n",
       "    </tr>\n",
       "    <tr>\n",
       "      <th>9967</th>\n",
       "      <td>-0.702247</td>\n",
       "      <td>-1.216635</td>\n",
       "      <td>0.926853</td>\n",
       "      <td>-1.372858</td>\n",
       "      <td>1.084895</td>\n",
       "      <td>0</td>\n",
       "    </tr>\n",
       "    <tr>\n",
       "      <th>9976</th>\n",
       "      <td>-0.652252</td>\n",
       "      <td>-1.014468</td>\n",
       "      <td>0.185129</td>\n",
       "      <td>-0.439922</td>\n",
       "      <td>1.477647</td>\n",
       "      <td>2</td>\n",
       "    </tr>\n",
       "    <tr>\n",
       "      <th>9979</th>\n",
       "      <td>-0.552262</td>\n",
       "      <td>-0.947078</td>\n",
       "      <td>1.294926</td>\n",
       "      <td>-1.593553</td>\n",
       "      <td>1.650458</td>\n",
       "      <td>0</td>\n",
       "    </tr>\n",
       "    <tr>\n",
       "      <th>9982</th>\n",
       "      <td>-0.552262</td>\n",
       "      <td>-1.081857</td>\n",
       "      <td>1.607231</td>\n",
       "      <td>-1.392921</td>\n",
       "      <td>-1.617236</td>\n",
       "      <td>1</td>\n",
       "    </tr>\n",
       "  </tbody>\n",
       "</table>\n",
       "<p>2041 rows × 6 columns</p>\n",
       "</div>"
      ],
      "text/plain": [
       "      Air temperature [K]  Process temperature [K]  Rotational speed [rpm]  \\\n",
       "1               -0.902227                -0.879689               -0.729478   \n",
       "2               -0.952222                -1.014468               -0.227559   \n",
       "3               -0.902227                -0.947078               -0.590056   \n",
       "8               -0.852232                -0.879689                0.714932   \n",
       "21              -0.602257                -0.475354               -0.495249   \n",
       "...                   ...                      ...                     ...   \n",
       "9958            -0.852232                -1.418803                0.391473   \n",
       "9967            -0.702247                -1.216635                0.926853   \n",
       "9976            -0.652252                -1.014468                0.185129   \n",
       "9979            -0.552262                -0.947078                1.294926   \n",
       "9982            -0.552262                -1.081857                1.607231   \n",
       "\n",
       "      Torque [Nm]  Tool wear [min]  Type  \n",
       "1        0.633456        -1.648656     0  \n",
       "2        0.944434        -1.617236     0  \n",
       "3       -0.048691        -1.585816     0  \n",
       "8       -1.142132        -1.413005     1  \n",
       "21       0.482982        -0.706052     0  \n",
       "...           ...              ...   ...  \n",
       "9958    -0.760932         0.676434     1  \n",
       "9967    -1.372858         1.084895     0  \n",
       "9976    -0.439922         1.477647     2  \n",
       "9979    -1.593553         1.650458     0  \n",
       "9982    -1.392921        -1.617236     1  \n",
       "\n",
       "[2041 rows x 6 columns]"
      ]
     },
     "execution_count": 43,
     "metadata": {},
     "output_type": "execute_result"
    }
   ],
   "source": [
    "X_filtered_test = X_binary.filter(items = index, axis = 0)\n",
    "X_filtered_test"
   ]
  },
  {
   "cell_type": "code",
   "execution_count": 44,
   "id": "0e22d295",
   "metadata": {
    "execution": {
     "iopub.execute_input": "2023-06-12T08:34:15.720421Z",
     "iopub.status.busy": "2023-06-12T08:34:15.719795Z",
     "iopub.status.idle": "2023-06-12T08:34:15.730647Z",
     "shell.execute_reply": "2023-06-12T08:34:15.730053Z"
    },
    "id": "iHadWkuAy8ww",
    "outputId": "bc11b7a1-3074-473e-f731-cf7f7478afa6",
    "papermill": {
     "duration": 0.03664,
     "end_time": "2023-06-12T08:34:15.732389",
     "exception": false,
     "start_time": "2023-06-12T08:34:15.695749",
     "status": "completed"
    },
    "tags": []
   },
   "outputs": [
    {
     "data": {
      "text/html": [
       "<div>\n",
       "<style scoped>\n",
       "    .dataframe tbody tr th:only-of-type {\n",
       "        vertical-align: middle;\n",
       "    }\n",
       "\n",
       "    .dataframe tbody tr th {\n",
       "        vertical-align: top;\n",
       "    }\n",
       "\n",
       "    .dataframe thead th {\n",
       "        text-align: right;\n",
       "    }\n",
       "</style>\n",
       "<table border=\"1\" class=\"dataframe\">\n",
       "  <thead>\n",
       "    <tr style=\"text-align: right;\">\n",
       "      <th></th>\n",
       "      <th>Machine failure</th>\n",
       "    </tr>\n",
       "  </thead>\n",
       "  <tbody>\n",
       "    <tr>\n",
       "      <th>1</th>\n",
       "      <td>0</td>\n",
       "    </tr>\n",
       "    <tr>\n",
       "      <th>2</th>\n",
       "      <td>0</td>\n",
       "    </tr>\n",
       "    <tr>\n",
       "      <th>3</th>\n",
       "      <td>0</td>\n",
       "    </tr>\n",
       "    <tr>\n",
       "      <th>8</th>\n",
       "      <td>0</td>\n",
       "    </tr>\n",
       "    <tr>\n",
       "      <th>21</th>\n",
       "      <td>0</td>\n",
       "    </tr>\n",
       "    <tr>\n",
       "      <th>...</th>\n",
       "      <td>...</td>\n",
       "    </tr>\n",
       "    <tr>\n",
       "      <th>9958</th>\n",
       "      <td>0</td>\n",
       "    </tr>\n",
       "    <tr>\n",
       "      <th>9967</th>\n",
       "      <td>0</td>\n",
       "    </tr>\n",
       "    <tr>\n",
       "      <th>9976</th>\n",
       "      <td>0</td>\n",
       "    </tr>\n",
       "    <tr>\n",
       "      <th>9979</th>\n",
       "      <td>0</td>\n",
       "    </tr>\n",
       "    <tr>\n",
       "      <th>9982</th>\n",
       "      <td>0</td>\n",
       "    </tr>\n",
       "  </tbody>\n",
       "</table>\n",
       "<p>2041 rows × 1 columns</p>\n",
       "</div>"
      ],
      "text/plain": [
       "      Machine failure\n",
       "1                   0\n",
       "2                   0\n",
       "3                   0\n",
       "8                   0\n",
       "21                  0\n",
       "...               ...\n",
       "9958                0\n",
       "9967                0\n",
       "9976                0\n",
       "9979                0\n",
       "9982                0\n",
       "\n",
       "[2041 rows x 1 columns]"
      ]
     },
     "execution_count": 44,
     "metadata": {},
     "output_type": "execute_result"
    }
   ],
   "source": [
    "y_filtered_test = y_binary.filter(items = index, axis = 0)\n",
    "y_filtered_test"
   ]
  },
  {
   "cell_type": "code",
   "execution_count": 45,
   "id": "76c39d01",
   "metadata": {
    "execution": {
     "iopub.execute_input": "2023-06-12T08:34:15.777307Z",
     "iopub.status.busy": "2023-06-12T08:34:15.776765Z",
     "iopub.status.idle": "2023-06-12T08:34:19.162469Z",
     "shell.execute_reply": "2023-06-12T08:34:19.161470Z"
    },
    "id": "ARbB7H49skrM",
    "outputId": "5495ab73-3a94-4e81-ba40-4e0a5ec3cb0d",
    "papermill": {
     "duration": 3.410445,
     "end_time": "2023-06-12T08:34:19.164309",
     "exception": false,
     "start_time": "2023-06-12T08:34:15.753864",
     "status": "completed"
    },
    "tags": []
   },
   "outputs": [
    {
     "name": "stdout",
     "output_type": "stream",
     "text": [
      "Classification Report:\n",
      "              precision    recall  f1-score   support\n",
      "\n",
      "           0     1.0000    0.9949    0.9975      1975\n",
      "           1     0.8684    1.0000    0.9296        66\n",
      "\n",
      "    accuracy                         0.9951      2041\n",
      "   macro avg     0.9342    0.9975    0.9635      2041\n",
      "weighted avg     0.9957    0.9951    0.9953      2041\n",
      "\n",
      "Confusion Matrix:\n"
     ]
    },
    {
     "data": {
      "image/png": "[encoded data removed]",
      "text/plain": [
       "<Figure size 640x480 with 2 Axes>"
      ]
     },
     "metadata": {},
     "output_type": "display_data"
    }
   ],
   "source": [
    "#with filter SMOTE\n",
    "model = best_models[result['Model'][0]]\n",
    "#model = SVC(C=10, class_weight='balanced', gamma=10, probability=True)\n",
    "model.fit(X_train, y_train)\n",
    "\n",
    "# Classification report\n",
    "print('Classification Report:')\n",
    "print(classification_report(y_filtered_test, model.predict(X_filtered_test), digits = 4))\n",
    "\n",
    "# Confusion matrix\n",
    "print('Confusion Matrix:')\n",
    "cm = confusion_matrix(y_filtered_test, model.predict(X_filtered_test))\n",
    "sns.heatmap(cm, annot=True, fmt='g', cmap = 'Blues')\n",
    "plt.ylabel('Actual',fontsize=10)\n",
    "plt.xlabel('Predicted',fontsize=10)\n",
    "plt.title('Confusion Matrix', fontsize=12)\n",
    "plt.show()"
   ]
  },
  {
   "cell_type": "code",
   "execution_count": 46,
   "id": "30c4e068",
   "metadata": {
    "execution": {
     "iopub.execute_input": "2023-06-12T08:34:19.210829Z",
     "iopub.status.busy": "2023-06-12T08:34:19.210477Z",
     "iopub.status.idle": "2023-06-12T08:34:19.215632Z",
     "shell.execute_reply": "2023-06-12T08:34:19.214567Z"
    },
    "id": "MEDCn4aDtRPb",
    "papermill": {
     "duration": 0.03153,
     "end_time": "2023-06-12T08:34:19.217910",
     "exception": false,
     "start_time": "2023-06-12T08:34:19.186380",
     "status": "completed"
    },
    "tags": []
   },
   "outputs": [],
   "source": [
    "def roc_analysis(model, X, y):\n",
    "  y_pred_prob = model.predict_proba(X)[:,1]\n",
    "  fpr, tpr, thresholds = roc_curve(y, y_pred_prob)\n",
    "  roc_auc = roc_auc_score(y, y_pred_prob)\n",
    "\n",
    "  plt.plot(fpr, tpr, label=type(model).__name__+' (area = %0.5f)' % roc_auc, linewidth=1)"
   ]
  },
  {
   "cell_type": "code",
   "execution_count": 47,
   "id": "506a8008",
   "metadata": {
    "execution": {
     "iopub.execute_input": "2023-06-12T08:34:19.262048Z",
     "iopub.status.busy": "2023-06-12T08:34:19.260942Z",
     "iopub.status.idle": "2023-06-12T08:34:19.884155Z",
     "shell.execute_reply": "2023-06-12T08:34:19.882551Z"
    },
    "id": "thOFQ4lKtRPb",
    "outputId": "52a597af-7c53-4adc-8ca8-5397648782e3",
    "papermill": {
     "duration": 0.647291,
     "end_time": "2023-06-12T08:34:19.886262",
     "exception": false,
     "start_time": "2023-06-12T08:34:19.238971",
     "status": "completed"
    },
    "tags": []
   },
   "outputs": [
    {
     "data": {
      "image/png": "[encoded data removed]",
      "text/plain": [
       "<Figure size 640x480 with 1 Axes>"
      ]
     },
     "metadata": {},
     "output_type": "display_data"
    }
   ],
   "source": [
    "for name, model in best_models.items():\n",
    "  roc_analysis(model, X_test, y_test)\n",
    "\n",
    "plt.xlabel('False Positive Rate', fontsize=12)\n",
    "plt.ylabel('True Positive Rate', fontsize=12)\n",
    "plt.title('ROC curves from the investigated models', fontsize=14)\n",
    "plt.legend(fontsize = 10, loc = 'right')\n",
    "plt.show()"
   ]
  },
  {
   "cell_type": "markdown",
   "id": "c2be7868",
   "metadata": {
    "id": "0OgdFUhviJCc",
    "papermill": {
     "duration": 0.022734,
     "end_time": "2023-06-12T08:34:19.931879",
     "exception": false,
     "start_time": "2023-06-12T08:34:19.909145",
     "status": "completed"
    },
    "tags": []
   },
   "source": [
    "## **Multilabel Classification**"
   ]
  },
  {
   "cell_type": "code",
   "execution_count": 48,
   "id": "3c244ebd",
   "metadata": {
    "execution": {
     "iopub.execute_input": "2023-06-12T08:34:19.978107Z",
     "iopub.status.busy": "2023-06-12T08:34:19.977752Z",
     "iopub.status.idle": "2023-06-12T08:34:19.984782Z",
     "shell.execute_reply": "2023-06-12T08:34:19.983315Z"
    },
    "id": "jKeb42JNvqvZ",
    "papermill": {
     "duration": 0.033423,
     "end_time": "2023-06-12T08:34:19.987700",
     "exception": false,
     "start_time": "2023-06-12T08:34:19.954277",
     "status": "completed"
    },
    "tags": []
   },
   "outputs": [],
   "source": [
    "df_clean = df[df.RNF != 1]"
   ]
  },
  {
   "cell_type": "code",
   "execution_count": 49,
   "id": "48fb9033",
   "metadata": {
    "execution": {
     "iopub.execute_input": "2023-06-12T08:34:20.036553Z",
     "iopub.status.busy": "2023-06-12T08:34:20.036044Z",
     "iopub.status.idle": "2023-06-12T08:34:20.040702Z",
     "shell.execute_reply": "2023-06-12T08:34:20.040047Z"
    },
    "id": "I1_Jr6U3o9cJ",
    "papermill": {
     "duration": 0.031915,
     "end_time": "2023-06-12T08:34:20.043024",
     "exception": false,
     "start_time": "2023-06-12T08:34:20.011109",
     "status": "completed"
    },
    "tags": []
   },
   "outputs": [],
   "source": [
    "df_failures = df_clean.loc[df_clean[label_binary[0]] == 1]"
   ]
  },
  {
   "cell_type": "code",
   "execution_count": 50,
   "id": "99816a8a",
   "metadata": {
    "execution": {
     "iopub.execute_input": "2023-06-12T08:34:20.091228Z",
     "iopub.status.busy": "2023-06-12T08:34:20.090594Z",
     "iopub.status.idle": "2023-06-12T08:34:20.097334Z",
     "shell.execute_reply": "2023-06-12T08:34:20.096217Z"
    },
    "id": "FKmlB8J7ibck",
    "papermill": {
     "duration": 0.034052,
     "end_time": "2023-06-12T08:34:20.099692",
     "exception": false,
     "start_time": "2023-06-12T08:34:20.065640",
     "status": "completed"
    },
    "tags": []
   },
   "outputs": [],
   "source": [
    "X_multilabel = df_failures[num+cat]\n",
    "y_multilabel = df_failures[label_multi[:4]]"
   ]
  },
  {
   "cell_type": "code",
   "execution_count": 51,
   "id": "6a069b60",
   "metadata": {
    "execution": {
     "iopub.execute_input": "2023-06-12T08:34:20.148108Z",
     "iopub.status.busy": "2023-06-12T08:34:20.147508Z",
     "iopub.status.idle": "2023-06-12T08:34:20.157219Z",
     "shell.execute_reply": "2023-06-12T08:34:20.156186Z"
    },
    "id": "KBj6a605ibc9",
    "outputId": "568f49ee-abd3-43e5-8095-166bd8bf4367",
    "papermill": {
     "duration": 0.036058,
     "end_time": "2023-06-12T08:34:20.159652",
     "exception": false,
     "start_time": "2023-06-12T08:34:20.123594",
     "status": "completed"
    },
    "tags": []
   },
   "outputs": [
    {
     "data": {
      "text/plain": [
       "TWF  HDF  PWF  OSF\n",
       "0    1    0    0      106\n",
       "     0    1    0       80\n",
       "          0    1       78\n",
       "1    0    0    0       42\n",
       "0    0    1    1       11\n",
       "     1    0    1        6\n",
       "          1    0        3\n",
       "1    0    0    1        2\n",
       "          1    1        1\n",
       "dtype: int64"
      ]
     },
     "execution_count": 51,
     "metadata": {},
     "output_type": "execute_result"
    }
   ],
   "source": [
    "y_multilabel.value_counts()"
   ]
  },
  {
   "cell_type": "code",
   "execution_count": 52,
   "id": "53738111",
   "metadata": {
    "execution": {
     "iopub.execute_input": "2023-06-12T08:34:20.207681Z",
     "iopub.status.busy": "2023-06-12T08:34:20.207322Z",
     "iopub.status.idle": "2023-06-12T08:34:20.214690Z",
     "shell.execute_reply": "2023-06-12T08:34:20.213211Z"
    },
    "id": "Vap17LAoHSEK",
    "papermill": {
     "duration": 0.034127,
     "end_time": "2023-06-12T08:34:20.217040",
     "exception": false,
     "start_time": "2023-06-12T08:34:20.182913",
     "status": "completed"
    },
    "tags": []
   },
   "outputs": [],
   "source": [
    "from sklearn.model_selection import train_test_split\n",
    "X_train, X_test, y_train, y_test = train_test_split(X_multilabel, y_multilabel, test_size=0.2, random_state=100)"
   ]
  },
  {
   "cell_type": "code",
   "execution_count": 53,
   "id": "22ae8a1e",
   "metadata": {
    "execution": {
     "iopub.execute_input": "2023-06-12T08:34:20.265510Z",
     "iopub.status.busy": "2023-06-12T08:34:20.265144Z",
     "iopub.status.idle": "2023-06-12T08:34:31.192871Z",
     "shell.execute_reply": "2023-06-12T08:34:31.191311Z"
    },
    "id": "h0BDRRrC4ROn",
    "outputId": "619e74b5-bbb9-458f-e5e4-2264e9ceb8eb",
    "papermill": {
     "duration": 10.954788,
     "end_time": "2023-06-12T08:34:31.195341",
     "exception": false,
     "start_time": "2023-06-12T08:34:20.240553",
     "status": "completed"
    },
    "tags": []
   },
   "outputs": [
    {
     "name": "stdout",
     "output_type": "stream",
     "text": [
      "Requirement already satisfied: scikit-multilearn in /opt/conda/lib/python3.10/site-packages (0.2.0)\n",
      "\u001b[33mWARNING: Running pip as the 'root' user can result in broken permissions and conflicting behaviour with the system package manager. It is recommended to use a virtual environment instead: https://pip.pypa.io/warnings/venv\u001b[0m\u001b[33m\n",
      "\u001b[0m"
     ]
    }
   ],
   "source": [
    "!pip install scikit-multilearn"
   ]
  },
  {
   "cell_type": "code",
   "execution_count": 54,
   "id": "cd670373",
   "metadata": {
    "execution": {
     "iopub.execute_input": "2023-06-12T08:34:31.244427Z",
     "iopub.status.busy": "2023-06-12T08:34:31.244020Z",
     "iopub.status.idle": "2023-06-12T08:34:31.265411Z",
     "shell.execute_reply": "2023-06-12T08:34:31.264662Z"
    },
    "id": "l2mpAqg93-qF",
    "papermill": {
     "duration": 0.048373,
     "end_time": "2023-06-12T08:34:31.267521",
     "exception": false,
     "start_time": "2023-06-12T08:34:31.219148",
     "status": "completed"
    },
    "tags": []
   },
   "outputs": [],
   "source": [
    "from sklearn.metrics import hamming_loss\n",
    "from sklearn.metrics import multilabel_confusion_matrix\n",
    "from sklearn.pipeline import Pipeline\n",
    "\n",
    "from skmultilearn.problem_transform import BinaryRelevance\n",
    "from skmultilearn.problem_transform import ClassifierChain\n",
    "from skmultilearn.problem_transform import LabelPowerset"
   ]
  },
  {
   "cell_type": "code",
   "execution_count": 55,
   "id": "1d74a0d9",
   "metadata": {
    "execution": {
     "iopub.execute_input": "2023-06-12T08:34:31.319019Z",
     "iopub.status.busy": "2023-06-12T08:34:31.317578Z",
     "iopub.status.idle": "2023-06-12T08:34:31.329391Z",
     "shell.execute_reply": "2023-06-12T08:34:31.328321Z"
    },
    "id": "5C1e9GlG6T0e",
    "papermill": {
     "duration": 0.038969,
     "end_time": "2023-06-12T08:34:31.331577",
     "exception": false,
     "start_time": "2023-06-12T08:34:31.292608",
     "status": "completed"
    },
    "tags": []
   },
   "outputs": [],
   "source": [
    "import warnings\n",
    "warnings.filterwarnings('ignore')\n",
    "from sklearn.tree import DecisionTreeClassifier\n",
    "from sklearn.linear_model import LogisticRegression\n",
    "from sklearn.ensemble import RandomForestClassifier \n",
    "from sklearn.ensemble import GradientBoostingClassifier\n",
    "from sklearn.svm import SVC\n",
    "from sklearn.neural_network import MLPClassifier\n",
    "\n",
    "from sklearn.model_selection import GridSearchCV, cross_val_score\n",
    "from sklearn.metrics import accuracy_score, classification_report, confusion_matrix\n",
    "from skmultilearn.model_selection import IterativeStratification"
   ]
  },
  {
   "cell_type": "code",
   "execution_count": 56,
   "id": "438a2f3a",
   "metadata": {
    "execution": {
     "iopub.execute_input": "2023-06-12T08:34:31.380462Z",
     "iopub.status.busy": "2023-06-12T08:34:31.379796Z",
     "iopub.status.idle": "2023-06-12T08:35:00.936584Z",
     "shell.execute_reply": "2023-06-12T08:35:00.935404Z"
    },
    "id": "40yjNi5jmqpR",
    "outputId": "2026c2ad-50e3-4dd6-c9ef-9c185d884c09",
    "papermill": {
     "duration": 29.584218,
     "end_time": "2023-06-12T08:35:00.939382",
     "exception": false,
     "start_time": "2023-06-12T08:34:31.355164",
     "status": "completed"
    },
    "tags": []
   },
   "outputs": [
    {
     "data": {
      "text/html": [
       "<div>\n",
       "<style scoped>\n",
       "    .dataframe tbody tr th:only-of-type {\n",
       "        vertical-align: middle;\n",
       "    }\n",
       "\n",
       "    .dataframe tbody tr th {\n",
       "        vertical-align: top;\n",
       "    }\n",
       "\n",
       "    .dataframe thead th {\n",
       "        text-align: right;\n",
       "    }\n",
       "</style>\n",
       "<table border=\"1\" class=\"dataframe\">\n",
       "  <thead>\n",
       "    <tr style=\"text-align: right;\">\n",
       "      <th></th>\n",
       "      <th>Model</th>\n",
       "      <th>Base Model</th>\n",
       "      <th>Score</th>\n",
       "    </tr>\n",
       "  </thead>\n",
       "  <tbody>\n",
       "    <tr>\n",
       "      <th>0</th>\n",
       "      <td>Label Powerset</td>\n",
       "      <td>Logistic Regression</td>\n",
       "      <td>0.882045</td>\n",
       "    </tr>\n",
       "    <tr>\n",
       "      <th>1</th>\n",
       "      <td>Label Powerset</td>\n",
       "      <td>Neural Network MLP</td>\n",
       "      <td>0.881792</td>\n",
       "    </tr>\n",
       "    <tr>\n",
       "      <th>2</th>\n",
       "      <td>Label Powerset</td>\n",
       "      <td>SVM</td>\n",
       "      <td>0.881464</td>\n",
       "    </tr>\n",
       "    <tr>\n",
       "      <th>3</th>\n",
       "      <td>Label Powerset</td>\n",
       "      <td>Random Forest</td>\n",
       "      <td>0.881003</td>\n",
       "    </tr>\n",
       "    <tr>\n",
       "      <th>4</th>\n",
       "      <td>Classifier Chain</td>\n",
       "      <td>Random Forest</td>\n",
       "      <td>0.870934</td>\n",
       "    </tr>\n",
       "    <tr>\n",
       "      <th>5</th>\n",
       "      <td>Binary Relevance</td>\n",
       "      <td>Random Forest</td>\n",
       "      <td>0.870917</td>\n",
       "    </tr>\n",
       "    <tr>\n",
       "      <th>6</th>\n",
       "      <td>Classifier Chain</td>\n",
       "      <td>Neural Network MLP</td>\n",
       "      <td>0.866926</td>\n",
       "    </tr>\n",
       "    <tr>\n",
       "      <th>7</th>\n",
       "      <td>Classifier Chain</td>\n",
       "      <td>SVM</td>\n",
       "      <td>0.865229</td>\n",
       "    </tr>\n",
       "    <tr>\n",
       "      <th>8</th>\n",
       "      <td>Classifier Chain</td>\n",
       "      <td>Logistic Regression</td>\n",
       "      <td>0.855619</td>\n",
       "    </tr>\n",
       "    <tr>\n",
       "      <th>9</th>\n",
       "      <td>Label Powerset</td>\n",
       "      <td>Gradient Boosting</td>\n",
       "      <td>0.851653</td>\n",
       "    </tr>\n",
       "    <tr>\n",
       "      <th>10</th>\n",
       "      <td>Binary Relevance</td>\n",
       "      <td>SVM</td>\n",
       "      <td>0.847600</td>\n",
       "    </tr>\n",
       "    <tr>\n",
       "      <th>11</th>\n",
       "      <td>Binary Relevance</td>\n",
       "      <td>Logistic Regression</td>\n",
       "      <td>0.842958</td>\n",
       "    </tr>\n",
       "    <tr>\n",
       "      <th>12</th>\n",
       "      <td>Binary Relevance</td>\n",
       "      <td>Neural Network MLP</td>\n",
       "      <td>0.836686</td>\n",
       "    </tr>\n",
       "    <tr>\n",
       "      <th>13</th>\n",
       "      <td>Binary Relevance</td>\n",
       "      <td>Gradient Boosting</td>\n",
       "      <td>0.836144</td>\n",
       "    </tr>\n",
       "    <tr>\n",
       "      <th>14</th>\n",
       "      <td>Classifier Chain</td>\n",
       "      <td>Gradient Boosting</td>\n",
       "      <td>0.836031</td>\n",
       "    </tr>\n",
       "    <tr>\n",
       "      <th>15</th>\n",
       "      <td>Label Powerset</td>\n",
       "      <td>Decision Tree</td>\n",
       "      <td>0.828719</td>\n",
       "    </tr>\n",
       "    <tr>\n",
       "      <th>16</th>\n",
       "      <td>Binary Relevance</td>\n",
       "      <td>Decision Tree</td>\n",
       "      <td>0.825938</td>\n",
       "    </tr>\n",
       "    <tr>\n",
       "      <th>17</th>\n",
       "      <td>Classifier Chain</td>\n",
       "      <td>Decision Tree</td>\n",
       "      <td>0.810482</td>\n",
       "    </tr>\n",
       "  </tbody>\n",
       "</table>\n",
       "</div>"
      ],
      "text/plain": [
       "               Model           Base Model     Score\n",
       "0     Label Powerset  Logistic Regression  0.882045\n",
       "1     Label Powerset   Neural Network MLP  0.881792\n",
       "2     Label Powerset                  SVM  0.881464\n",
       "3     Label Powerset        Random Forest  0.881003\n",
       "4   Classifier Chain        Random Forest  0.870934\n",
       "5   Binary Relevance        Random Forest  0.870917\n",
       "6   Classifier Chain   Neural Network MLP  0.866926\n",
       "7   Classifier Chain                  SVM  0.865229\n",
       "8   Classifier Chain  Logistic Regression  0.855619\n",
       "9     Label Powerset    Gradient Boosting  0.851653\n",
       "10  Binary Relevance                  SVM  0.847600\n",
       "11  Binary Relevance  Logistic Regression  0.842958\n",
       "12  Binary Relevance   Neural Network MLP  0.836686\n",
       "13  Binary Relevance    Gradient Boosting  0.836144\n",
       "14  Classifier Chain    Gradient Boosting  0.836031\n",
       "15    Label Powerset        Decision Tree  0.828719\n",
       "16  Binary Relevance        Decision Tree  0.825938\n",
       "17  Classifier Chain        Decision Tree  0.810482"
      ]
     },
     "execution_count": 56,
     "metadata": {},
     "output_type": "execute_result"
    }
   ],
   "source": [
    "# define models\n",
    "base_models = {\n",
    "    'Logistic Regression': LogisticRegression(),\n",
    "    'SVM': SVC(probability=True),\n",
    "    'Decision Tree': DecisionTreeClassifier(),\n",
    "    'Random Forest': RandomForestClassifier(),\n",
    "    'Gradient Boosting': GradientBoostingClassifier(),\n",
    "    'Neural Network MLP': MLPClassifier()\n",
    "}\n",
    "\n",
    "result = pd.DataFrame(columns=['Model', 'Base Model', 'Score'])\n",
    "k_fold = IterativeStratification(n_splits=5, order=1)\n",
    "\n",
    "for base_name, base_model in base_models.items():\n",
    "  models = {\n",
    "      'Binary Relevance': BinaryRelevance(base_model),\n",
    "      'Classifier Chain': ClassifierChain(base_model),\n",
    "      'Label Powerset': LabelPowerset(base_model)\n",
    "  }\n",
    "  for name, model in models.items():\n",
    "    model.fit(X_train, y_train)\n",
    "    y_pred = model.predict(X_test)\n",
    "    score = cross_val_score(model, X_train, y_train, cv=k_fold).mean()\n",
    "    result = result.append({'Model': name, 'Base Model': base_name, 'Score': score},\n",
    "                           ignore_index = True)\n",
    "\n",
    "result.sort_values('Score', ascending = False).reset_index(drop = True)"
   ]
  },
  {
   "cell_type": "code",
   "execution_count": 57,
   "id": "3ad80c38",
   "metadata": {
    "execution": {
     "iopub.execute_input": "2023-06-12T08:35:00.989327Z",
     "iopub.status.busy": "2023-06-12T08:35:00.988955Z",
     "iopub.status.idle": "2023-06-12T08:35:00.997865Z",
     "shell.execute_reply": "2023-06-12T08:35:00.996465Z"
    },
    "id": "sq-REWP9E1QP",
    "papermill": {
     "duration": 0.035744,
     "end_time": "2023-06-12T08:35:01.000008",
     "exception": false,
     "start_time": "2023-06-12T08:35:00.964264",
     "status": "completed"
    },
    "tags": []
   },
   "outputs": [],
   "source": [
    "def eval(model, param_grid, X_train, y_train):\n",
    "  labels = list(y_train.columns.values)\n",
    "  grid_search = GridSearchCV(model, param_grid, scoring = 'accuracy', cv = k_fold)\n",
    "\n",
    "  grid_search.fit(X_train, y_train)\n",
    "  best_model = grid_search.best_estimator_\n",
    "  print('Best Parameters:', grid_search.best_params_)\n",
    "\n",
    "  y_pred = best_model.predict(X_test)\n",
    "\n",
    "  # Calculate accuracy\n",
    "  accuracy = grid_search.best_score_\n",
    "  print('Accuracy:', accuracy)\n",
    "\n",
    "  # Calculate Hamming Loss\n",
    "  hamming_loss_val = hamming_loss(y_test, y_pred)\n",
    "  print('Hamming Loss:', hamming_loss_val)\n",
    "\n",
    "  # Classification report\n",
    "  print('Classification Report:')\n",
    "  print(classification_report(y_test, y_pred, digits = 4))\n",
    "\n",
    "  #Confusion Matrix\n",
    "  cm = multilabel_confusion_matrix(y_test, y_pred)\n",
    "\n",
    "  plt.figure(figsize=(len(labels)*7,len(labels)))\n",
    "  for idx,i in enumerate(labels):\n",
    "    plt.subplot(1,len(labels),idx+1)\n",
    "    sns.heatmap(cm[idx], annot=True, cmap = 'Blues',\n",
    "                xticklabels=['0', '1'], yticklabels=['0', '1'])\n",
    "    plt.ylabel('Actual',fontsize=10)\n",
    "    plt.xlabel('Predicted',fontsize=10)\n",
    "    plt.title('Confusion Matrix of '+i, fontsize=12)"
   ]
  },
  {
   "cell_type": "code",
   "execution_count": 58,
   "id": "88fe6497",
   "metadata": {
    "execution": {
     "iopub.execute_input": "2023-06-12T08:35:01.048612Z",
     "iopub.status.busy": "2023-06-12T08:35:01.048303Z",
     "iopub.status.idle": "2023-06-12T08:35:04.243259Z",
     "shell.execute_reply": "2023-06-12T08:35:04.242448Z"
    },
    "id": "f5z6rcE4VDwj",
    "outputId": "2774453f-d2d9-4d56-83eb-eee2efc6e2cf",
    "papermill": {
     "duration": 3.220928,
     "end_time": "2023-06-12T08:35:04.245092",
     "exception": false,
     "start_time": "2023-06-12T08:35:01.024164",
     "status": "completed"
    },
    "tags": []
   },
   "outputs": [
    {
     "name": "stdout",
     "output_type": "stream",
     "text": [
      "Best Parameters: {'classifier__C': 10, 'classifier__class_weight': None, 'classifier__penalty': 'l2', 'classifier__solver': 'newton-cg'}\n",
      "Accuracy: 0.9045916060344472\n",
      "Hamming Loss: 0.01893939393939394\n",
      "Classification Report:\n",
      "              precision    recall  f1-score   support\n",
      "\n",
      "           0     1.0000    1.0000    1.0000         9\n",
      "           1     1.0000    0.9167    0.9565        24\n",
      "           2     1.0000    0.8750    0.9333        24\n",
      "           3     1.0000    1.0000    1.0000        16\n",
      "\n",
      "   micro avg     1.0000    0.9315    0.9645        73\n",
      "   macro avg     1.0000    0.9479    0.9725        73\n",
      "weighted avg     1.0000    0.9315    0.9638        73\n",
      " samples avg     1.0000    0.9621    0.9747        73\n",
      "\n"
     ]
    },
    {
     "data": {
      "image/png": "[encoded data removed]",
      "text/plain": [
       "<Figure size 2800x400 with 8 Axes>"
      ]
     },
     "metadata": {},
     "output_type": "display_data"
    }
   ],
   "source": [
    "model = LabelPowerset(LogisticRegression())\n",
    "\n",
    "param_grid = {\n",
    "    'classifier__C': [0.1, 1, 10],  \n",
    "    'classifier__penalty': ['l1', 'l2'],\n",
    "    'classifier__solver': ['newton-cg', 'lbfgs', 'sag'],\n",
    "    'classifier__class_weight': ['balanced', None]\n",
    "}\n",
    "\n",
    "eval(model, param_grid, X_train, y_train)"
   ]
  },
  {
   "cell_type": "code",
   "execution_count": 59,
   "id": "c7fc66de",
   "metadata": {
    "execution": {
     "iopub.execute_input": "2023-06-12T08:35:04.294662Z",
     "iopub.status.busy": "2023-06-12T08:35:04.294138Z",
     "iopub.status.idle": "2023-06-12T08:35:12.790441Z",
     "shell.execute_reply": "2023-06-12T08:35:12.788813Z"
    },
    "id": "OSLXqZICUmIt",
    "outputId": "b6fa7e56-efd6-462b-e193-7d726f5db32e",
    "papermill": {
     "duration": 8.525116,
     "end_time": "2023-06-12T08:35:12.793823",
     "exception": false,
     "start_time": "2023-06-12T08:35:04.268707",
     "status": "completed"
    },
    "tags": []
   },
   "outputs": [
    {
     "name": "stdout",
     "output_type": "stream",
     "text": [
      "Best Parameters: {'classifier__max_depth': 20, 'classifier__min_samples_split': 5, 'classifier__n_estimators': 40}\n",
      "Accuracy: 0.8931877751877753\n",
      "Hamming Loss: 0.03409090909090909\n",
      "Classification Report:\n",
      "              precision    recall  f1-score   support\n",
      "\n",
      "           0     1.0000    1.0000    1.0000         9\n",
      "           1     1.0000    0.8750    0.9333        24\n",
      "           2     0.9524    0.8333    0.8889        24\n",
      "           3     1.0000    0.9375    0.9677        16\n",
      "\n",
      "   micro avg     0.9848    0.8904    0.9353        73\n",
      "   macro avg     0.9881    0.9115    0.9475        73\n",
      "weighted avg     0.9843    0.8904    0.9345        73\n",
      " samples avg     0.9848    0.9318    0.9495        73\n",
      "\n"
     ]
    },
    {
     "data": {
      "image/png": "[encoded data removed]",
      "text/plain": [
       "<Figure size 2800x400 with 8 Axes>"
      ]
     },
     "metadata": {},
     "output_type": "display_data"
    }
   ],
   "source": [
    "model = LabelPowerset(RandomForestClassifier())\n",
    "\n",
    "param_grid = {\n",
    "    'classifier__n_estimators': [20, 30, 40],\n",
    "    'classifier__max_depth': [10, 15, 20],\n",
    "    'classifier__min_samples_split': [5, 10, 15]\n",
    "}\n",
    "\n",
    "eval(model, param_grid, X_train, y_train)"
   ]
  },
  {
   "cell_type": "code",
   "execution_count": 60,
   "id": "9edbe2ae",
   "metadata": {
    "execution": {
     "iopub.execute_input": "2023-06-12T08:35:12.846366Z",
     "iopub.status.busy": "2023-06-12T08:35:12.845873Z",
     "iopub.status.idle": "2023-06-12T08:36:11.477477Z",
     "shell.execute_reply": "2023-06-12T08:36:11.475940Z"
    },
    "id": "H0KsJ6ZbFT77",
    "outputId": "8b167a1e-3063-4c0c-bfaa-672440fe484a",
    "papermill": {
     "duration": 58.660894,
     "end_time": "2023-06-12T08:36:11.480438",
     "exception": false,
     "start_time": "2023-06-12T08:35:12.819544",
     "status": "completed"
    },
    "tags": []
   },
   "outputs": [
    {
     "name": "stdout",
     "output_type": "stream",
     "text": [
      "Best Parameters: {'classifier__max_depth': 30, 'classifier__min_samples_split': 10, 'classifier__n_estimators': 30}\n",
      "Accuracy: 0.8800554724280136\n",
      "Hamming Loss: 0.045454545454545456\n",
      "Classification Report:\n",
      "              precision    recall  f1-score   support\n",
      "\n",
      "           0     1.0000    0.7778    0.8750         9\n",
      "           1     1.0000    0.9167    0.9565        24\n",
      "           2     0.9091    0.8333    0.8696        24\n",
      "           3     1.0000    0.8750    0.9333        16\n",
      "\n",
      "   micro avg     0.9692    0.8630    0.9130        73\n",
      "   macro avg     0.9773    0.8507    0.9086        73\n",
      "weighted avg     0.9701    0.8630    0.9128        73\n",
      " samples avg     0.9394    0.8939    0.9091        73\n",
      "\n"
     ]
    },
    {
     "data": {
      "image/png": "[encoded data removed]",
      "text/plain": [
       "<Figure size 2800x400 with 8 Axes>"
      ]
     },
     "metadata": {},
     "output_type": "display_data"
    }
   ],
   "source": [
    "model = ClassifierChain(RandomForestClassifier())\n",
    "\n",
    "param_grid = {\n",
    "    'classifier__n_estimators': [30, 60, 120],\n",
    "    'classifier__max_depth': [10, 20, 30],\n",
    "    'classifier__min_samples_split': [10, 15, 20]\n",
    "}\n",
    "\n",
    "eval(model, param_grid, X_train, y_train)"
   ]
  }
 ],
 "metadata": {
  "kernelspec": {
   "display_name": "Python 3",
   "language": "python",
   "name": "python3"
  },
  "language_info": {
   "codemirror_mode": {
    "name": "ipython",
    "version": 3
   },
   "file_extension": ".py",
   "mimetype": "text/x-python",
   "name": "python",
   "nbconvert_exporter": "python",
   "pygments_lexer": "ipython3",
   "version": "3.8.8"
  },
  "papermill": {
   "default_parameters": {},
   "duration": 1406.033858,
   "end_time": "2023-06-12T08:36:12.633442",
   "environment_variables": {},
   "exception": null,
   "input_path": "__notebook__.ipynb",
   "output_path": "__notebook__.ipynb",
   "parameters": {},
   "start_time": "2023-06-12T08:12:46.599584",
   "version": "2.4.0"
  }
 },
 "nbformat": 4,
 "nbformat_minor": 5
}
